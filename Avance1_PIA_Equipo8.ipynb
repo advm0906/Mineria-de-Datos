{
 "cells": [
  {
   "cell_type": "markdown",
   "metadata": {},
   "source": [
    "**Minería de Datos**\n",
    "# Primer avance del PIA\n",
    "\n",
    "- Equipo: 8\n",
    "- *Grupo: 003.  Lunes de 6:00 a 9:00 pm*\n",
    "\n",
    "#### Integrantes:\n",
    "- 1806170 Aguirre Avila Tennet Natalia\n",
    "- 1796550 Flores Ramos Aldair Santos\n",
    "- 1871089 López Hernández José Eduaro\n",
    "- 1793930 Vázquez Macías Armando Daniel \n",
    "     "
   ]
  },
  {
   "cell_type": "markdown",
   "metadata": {},
   "source": [
    "------------------------------------------------------------------------------"
   ]
  },
  {
   "cell_type": "markdown",
   "metadata": {},
   "source": [
    "## Base de datos\n",
    "- Nombre de la base de datos:*Bitcoin Historical Dataset*\n",
    "- Url de l página: *[Bitcoin](https://www.kaggle.com/prasoonkottarathil/btcinusd)*"
   ]
  },
  {
   "cell_type": "code",
   "execution_count": 29,
   "metadata": {},
   "outputs": [],
   "source": [
    "#Tipo de datos= tablas\n",
    "#Primero importamos bibliotecas que nos ayudaran\n",
    "import pandas as pd\n",
    "import numpy as np\n",
    "import json\n",
    "#Ahora abriremos el archivo para visualizarlo \n",
    "bitcoin=pd.read_csv(\"C:/Users/HP/Documents/Facultad/Mineria/PIA/BTCUSD_day.csv\",encoding='utf8')"
   ]
  },
  {
   "cell_type": "markdown",
   "metadata": {},
   "source": [
    "### Descripción de los datos\n",
    "\n",
    "El documento cuenta con tres archivos de Excel y cada uno de estos contiene una base de datos con indicadores de tipo de cambio Bitcoin-USD. Una cuenta con información por minuto, otra cuenta con información por hora y por último la siguiente cuenta con información al cierre de cada jornada diaria. \n",
    "\n",
    "Por cuestiones de utilidad, el equipo ha decidido más conveniente usar el archivo que contiene la información diaria, ya que de tal forma es más sencillo manejar la información de la base de datos. La base cuenta con entradas diarias desde el 10 de agosto de 2015 al 4 de octubre de 2020, para cada entrada la base tiene ocho columnas. \n",
    "\n",
    "Estas columnas indican: \n",
    "1. Fecha de la entrada, \n",
    "2. Símbolo de la transacción, \n",
    "3. Precio de apertura, \n",
    "4. Precio máximo, \n",
    "5. Precio mínimo, \n",
    "6. Precio de cierre, \n",
    "7. Volumen de \"Bitcoins\" circulados y\n",
    "8. Volumen de dólares circulados.\n",
    "\n",
    "La base de datos es una tabla que en su mayoría tiene valores númericos flotantes ya que hablan de precios y volumen de una cripto moneda."
   ]
  },
  {
   "cell_type": "code",
   "execution_count": 30,
   "metadata": {},
   "outputs": [
    {
     "name": "stdout",
     "output_type": "stream",
     "text": [
      "(1647, 8)\n"
     ]
    }
   ],
   "source": [
    "#Veremos las columnas y tipo de datos que contienen\n",
    "pd.DataFrame(data=bitcoin)\n",
    "print(bitcoin.shape)"
   ]
  },
  {
   "cell_type": "code",
   "execution_count": 31,
   "metadata": {
    "scrolled": true
   },
   "outputs": [
    {
     "name": "stdout",
     "output_type": "stream",
     "text": [
      "         Date  Symbol     Open     High      Low    Close  Volume BTC  \\\n",
      "0  10/04/2020  BTCUSD  7315.25  7315.25  7315.25  7315.25        0.00   \n",
      "1  09/04/2020  BTCUSD  7369.60  7378.85  7115.04  7315.25     2237.13   \n",
      "2  08/04/2020  BTCUSD  7201.81  7432.23  7152.80  7369.60     2483.60   \n",
      "3  07/04/2020  BTCUSD  7336.96  7468.42  7078.00  7201.81     2333.34   \n",
      "4  06/04/2020  BTCUSD  6775.21  7369.76  6771.01  7336.96     3727.47   \n",
      "\n",
      "    Volume USD  \n",
      "0         0.00  \n",
      "1  16310014.53  \n",
      "2  18138080.27  \n",
      "3  17047120.32  \n",
      "4  26533750.17  \n",
      "\n",
      "Date           object\n",
      "Symbol         object\n",
      "Open          float64\n",
      "High          float64\n",
      "Low           float64\n",
      "Close         float64\n",
      "Volume BTC    float64\n",
      "Volume USD    float64\n",
      "dtype: object\n",
      "\n"
     ]
    }
   ],
   "source": [
    "#Veremos las columnas y tipo de datos que contienen\n",
    "pd.DataFrame(data=bitcoin)\n",
    "print(bitcoin.head())\n",
    "print(\"\")\n",
    "print(bitcoin.dtypes)\n",
    "print(\"\")"
   ]
  },
  {
   "cell_type": "markdown",
   "metadata": {},
   "source": [
    "### Justificación del uso de datos\n",
    "\n",
    "Las criptomonedas son el futuro de las transacciones financieras a nivel global y desde incluso este momento cada vez representan mayores porcentajes en las transacciones que realizamos hoy en día. Como ejemplo principal tenemos el \"Bitcoin\", creada en 2008 por el pseudónimo \"Satoshi Nakamoto\" y que comenzó a ganar popularidad en 2015, que al momento es una de las principales criptomonedas en la \"Fiebre de las Criptomonedas\". Sus características de anonimato, control descentralizado y falta de regulación hacen que sea la criptomoneda más cotizada, y también una de las más volátiles.\n",
    "\n",
    "\n",
    "Trabajar con una base de datos del \"Bitcoin\" nos puede permitir realizar un seguimiento a su volatilidad, relación con otros aspectos económico - financiero, así como generar pronósticos de su valor a corto o mediano plazo.\n",
    "\n",
    "Todas las personas pueden transferir bitcóin a través de la red para hacer casi cualquier cosa que se pueda hacer con las monedas convencionales, como comprar y vender bienes y servicios o enviar dinero a otra persona, e incluso algunas plataformas permiten recibir u otorgar crédito usando bitcóin.\n",
    "\n",
    "En un futuro, ya sea cercano o lejano, las cripto monedas como el bitcóin remplazaran a las monedas convencionales (como en el caso de China, donde los ciudadanos solo cargan con sus celulares para hacer sus pagos durante el día). Este cambio será para la población en general, lo cual también se ven envueltos las empresas (pequeñas, medianas o grandes), los negocios particulares, los transportes, etc."
   ]
  },
  {
   "cell_type": "markdown",
   "metadata": {},
   "source": [
    "### Objetivo Final\n",
    "\n",
    "Trabajar con la base de datos nos permitirá dar a conocer como el comportamiento del Bitcoin en los últimos años, identificar tendencias y comprobar si efectivamente existe una \"fiebre\", además de generar un pronóstico para verificar si el Bitcoin es demasiado volátil como para tratar de \"predecir\" su valor futuro."
   ]
  },
  {
   "cell_type": "markdown",
   "metadata": {},
   "source": [
    "### Pregunta de interes\n",
    "\n",
    "1. ¿El comportamiento del Bitcoin es estable?\n",
    "\n",
    "2. ¿Sus tendencias son alcista, bajista o lateral?\n",
    "\n",
    "3. ¿Existe la \"fiebre\" por las cripto monedas?\n",
    "\n",
    "4. ¿El Bitcoin es volátil?"
   ]
  },
  {
   "cell_type": "markdown",
   "metadata": {},
   "source": [
    "### Parte de programación."
   ]
  },
  {
   "cell_type": "markdown",
   "metadata": {},
   "source": [
    "- Eliminar columnas no deseadas"
   ]
  },
  {
   "cell_type": "code",
   "execution_count": 32,
   "metadata": {
    "scrolled": false
   },
   "outputs": [
    {
     "name": "stdout",
     "output_type": "stream",
     "text": [
      "Index(['Date', 'Symbol', 'Open', 'High', 'Low', 'Close', 'Volume BTC',\n",
      "       'Volume USD'],\n",
      "      dtype='object')\n",
      "\n"
     ]
    }
   ],
   "source": [
    "pd.DataFrame(data=bitcoin)\n",
    "print(bitcoin.columns)\n",
    "print(\"\")"
   ]
  },
  {
   "cell_type": "code",
   "execution_count": 33,
   "metadata": {},
   "outputs": [],
   "source": [
    "bitcoin=bitcoin.drop(['Symbol', 'Volume USD'], axis=1)"
   ]
  },
  {
   "cell_type": "code",
   "execution_count": 42,
   "metadata": {},
   "outputs": [
    {
     "name": "stdout",
     "output_type": "stream",
     "text": [
      "Index(['Fecha', 'Apertura', 'Máximo', 'Mínimo', 'Cierre', 'Transacciones_BTC'], dtype='object')\n",
      "\n"
     ]
    }
   ],
   "source": [
    "pd.DataFrame(data=bitcoin)\n",
    "print(bitcoin.columns)\n",
    "print(\"\")"
   ]
  },
  {
   "cell_type": "markdown",
   "metadata": {},
   "source": [
    "*Se eliminarion las columnas de \"Symbol\" y \"Volume USD\" ya que ambas no son de utilidad para el objetivo*"
   ]
  },
  {
   "cell_type": "markdown",
   "metadata": {},
   "source": [
    "- Manipulación de los datos tipo null"
   ]
  },
  {
   "cell_type": "code",
   "execution_count": 35,
   "metadata": {
    "scrolled": true
   },
   "outputs": [
    {
     "data": {
      "text/plain": [
       "Date          0\n",
       "Open          0\n",
       "High          0\n",
       "Low           0\n",
       "Close         0\n",
       "Volume BTC    0\n",
       "dtype: int64"
      ]
     },
     "execution_count": 35,
     "metadata": {},
     "output_type": "execute_result"
    }
   ],
   "source": [
    "bitcoin.isnull().sum()"
   ]
  },
  {
   "cell_type": "markdown",
   "metadata": {},
   "source": [
    "*No hay datos null*"
   ]
  },
  {
   "cell_type": "markdown",
   "metadata": {},
   "source": [
    "- Renombra columnas"
   ]
  },
  {
   "cell_type": "code",
   "execution_count": 39,
   "metadata": {
    "scrolled": true
   },
   "outputs": [],
   "source": [
    "bitcoin.rename(columns= {'Date': 'Fecha','Open':'Apertura','High':'Máximo','Low': 'Mínimo','Close': 'Cierre','Volume BTC': 'Transacciones_BTC'},inplace=True)\n",
    "#Renombramos las columnas a español para facilitar el entendimiento de nuestro equipo y lectores"
   ]
  },
  {
   "cell_type": "markdown",
   "metadata": {},
   "source": [
    "Visualización después de limpieza y exportación de los datos"
   ]
  },
  {
   "cell_type": "code",
   "execution_count": 40,
   "metadata": {
    "scrolled": true
   },
   "outputs": [
    {
     "data": {
      "text/html": [
       "<div>\n",
       "<style scoped>\n",
       "    .dataframe tbody tr th:only-of-type {\n",
       "        vertical-align: middle;\n",
       "    }\n",
       "\n",
       "    .dataframe tbody tr th {\n",
       "        vertical-align: top;\n",
       "    }\n",
       "\n",
       "    .dataframe thead th {\n",
       "        text-align: right;\n",
       "    }\n",
       "</style>\n",
       "<table border=\"1\" class=\"dataframe\">\n",
       "  <thead>\n",
       "    <tr style=\"text-align: right;\">\n",
       "      <th></th>\n",
       "      <th>Fecha</th>\n",
       "      <th>Apertura</th>\n",
       "      <th>Máximo</th>\n",
       "      <th>Mínimo</th>\n",
       "      <th>Cierre</th>\n",
       "      <th>Transacciones_BTC</th>\n",
       "    </tr>\n",
       "  </thead>\n",
       "  <tbody>\n",
       "    <tr>\n",
       "      <th>0</th>\n",
       "      <td>10/04/2020</td>\n",
       "      <td>7315.25</td>\n",
       "      <td>7315.25</td>\n",
       "      <td>7315.25</td>\n",
       "      <td>7315.25</td>\n",
       "      <td>0.00</td>\n",
       "    </tr>\n",
       "    <tr>\n",
       "      <th>1</th>\n",
       "      <td>09/04/2020</td>\n",
       "      <td>7369.60</td>\n",
       "      <td>7378.85</td>\n",
       "      <td>7115.04</td>\n",
       "      <td>7315.25</td>\n",
       "      <td>2237.13</td>\n",
       "    </tr>\n",
       "    <tr>\n",
       "      <th>2</th>\n",
       "      <td>08/04/2020</td>\n",
       "      <td>7201.81</td>\n",
       "      <td>7432.23</td>\n",
       "      <td>7152.80</td>\n",
       "      <td>7369.60</td>\n",
       "      <td>2483.60</td>\n",
       "    </tr>\n",
       "    <tr>\n",
       "      <th>3</th>\n",
       "      <td>07/04/2020</td>\n",
       "      <td>7336.96</td>\n",
       "      <td>7468.42</td>\n",
       "      <td>7078.00</td>\n",
       "      <td>7201.81</td>\n",
       "      <td>2333.34</td>\n",
       "    </tr>\n",
       "    <tr>\n",
       "      <th>4</th>\n",
       "      <td>06/04/2020</td>\n",
       "      <td>6775.21</td>\n",
       "      <td>7369.76</td>\n",
       "      <td>6771.01</td>\n",
       "      <td>7336.96</td>\n",
       "      <td>3727.47</td>\n",
       "    </tr>\n",
       "  </tbody>\n",
       "</table>\n",
       "</div>"
      ],
      "text/plain": [
       "        Fecha  Apertura   Máximo   Mínimo   Cierre  Transacciones_BTC\n",
       "0  10/04/2020   7315.25  7315.25  7315.25  7315.25               0.00\n",
       "1  09/04/2020   7369.60  7378.85  7115.04  7315.25            2237.13\n",
       "2  08/04/2020   7201.81  7432.23  7152.80  7369.60            2483.60\n",
       "3  07/04/2020   7336.96  7468.42  7078.00  7201.81            2333.34\n",
       "4  06/04/2020   6775.21  7369.76  6771.01  7336.96            3727.47"
      ]
     },
     "execution_count": 40,
     "metadata": {},
     "output_type": "execute_result"
    }
   ],
   "source": [
    "bitcoin.head()"
   ]
  },
  {
   "cell_type": "code",
   "execution_count": 41,
   "metadata": {},
   "outputs": [
    {
     "data": {
      "text/plain": [
       "(1647, 6)"
      ]
     },
     "execution_count": 41,
     "metadata": {},
     "output_type": "execute_result"
    }
   ],
   "source": [
    "bitcoin.shape"
   ]
  }
 ],
 "metadata": {
  "kernelspec": {
   "display_name": "Python 3",
   "language": "python",
   "name": "python3"
  },
  "language_info": {
   "codemirror_mode": {
    "name": "ipython",
    "version": 3
   },
   "file_extension": ".py",
   "mimetype": "text/x-python",
   "name": "python",
   "nbconvert_exporter": "python",
   "pygments_lexer": "ipython3",
   "version": "3.8.5"
  }
 },
 "nbformat": 4,
 "nbformat_minor": 4
}
