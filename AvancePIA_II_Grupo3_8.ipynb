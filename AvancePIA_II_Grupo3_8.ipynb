{
 "cells": [
  {
   "cell_type": "markdown",
   "metadata": {},
   "source": [
    "**Minería de Datos**\n",
    "# Segundo avance del PIA\n",
    "\n",
    "- Equipo: 8\n",
    "- *Grupo: 003.  Lunes de 6:00 a 9:00 pm*\n",
    "\n",
    "#### Integrantes:\n",
    "- 1806170 Aguirre Avila Tennet Natalia\n",
    "- 1796550 Flores Ramos Aldair Santos\n",
    "- 1871089 López Hernández José Eduaro\n",
    "- 1793930 Vázquez Macías Armando Daniel "
   ]
  },
  {
   "cell_type": "markdown",
   "metadata": {},
   "source": [
    "------------------------------------------------------------------------------\n",
    "## Base de datos\n",
    "- Nombre de la base de datos:*Bitcoin Historical Dataset*\n",
    "- Url de l página: *[Bitcoin](https://www.kaggle.com/prasoonkottarathil/btcinusd)*"
   ]
  },
  {
   "cell_type": "markdown",
   "metadata": {},
   "source": [
    "--------------------------------------------------------------------------------------------------------------------------\n",
    "#### *- Descripción de la base de datos*\n",
    "El documento cuenta con tres archivos de Excel y cada uno de estos contiene una base de datos con indicadores de tipo de cambio Bitcoin-USD. Una cuenta con información por minuto, otra cuenta con información por hora y por último la siguiente cuenta con información al cierre de cada jornada diaria. La base de datos de \"Bitcoin Historical Dataset\" contiene todos los datos históricos de 24 horas (días) desde 210 de agosto de 2015 al 4 de octubre de 2020. Por cuestiones de utilidad, el equipo ha decidido más conveniente usar el archivo que contiene la información diaria, ya que de tal forma es más sencillo manejar la información de la base de datos. \n",
    "\n",
    "La base es una tabla que en su mayoría tiene valores numéricos flotantes ya que hablan de precios y volumen de una cripto moneda y cuenta con entradas diarias desde el 10 de agosto de 2015 al 4 de octubre de 2020 contemplado datos de fecha de la entrada, símbolo de la transacción, precio de apertura, precio máximo, precio mínimo, precio de cierre, volumen de \"Bitcóines\" circulados y volumen de dólares circulados\n",
    "\n",
    "#### *- Información de las columnas:*\n",
    "1. Fecha de la entrada (Representa el día en cuestión del cambio y tiene información tipo dato)\n",
    "2. Símbolo de la transacción (BTCUSD, quiere decir que se hizo el cambio de bitcóin a dólares, tipo dato)\n",
    "3. Precio de apertura (Valor del bitcóin al inicio del día, tipo flotante)\n",
    "4. Precio máximo (Valor máximo al final del día que llego el bitcóin, tipo flotante)\n",
    "5. Precio mínimo (Valor mínimo al final del día que llego el bitcóin, tipo flotante)\n",
    "6. Precio de cierre (Valor del bitcóin al finalizar el día, tipo flotante)\n",
    "7. Volumen de \"Bitcóines\" circulados (Cantidad de moneda electrónica que circulo durante el día, tipo flotante)\n",
    "8. Volumen de dólares circulados (Cantidad en dólares de la moneda electrónica que circulo durante el día, tipo flotante)\n",
    "\n",
    "#### *- Tamaño de la base de datos*\n",
    "La base de datos tiene una cantidad de 8 columnas y 1647 filas\n",
    "\n",
    "*Toda la información presentada es con la base de datos original, no es de la base de datos limpia*\n",
    "\n",
    "#### *- Elección de la base de datos*\n",
    "El equipo, por decisión unánime, votó por una base de datos con información que se considerará de importancia relacionado a temas vistos antes en la carrera de Actuaría. Por lo que, como anteriormente todos los integrantes del equipo llevaron una buena relación con la materia de \"Portafolios de inversión\" se decidió que un tema de inversión sería el adecuado y proporcionaría mayor interés al trabajo.\n",
    "\n",
    "#### *- Beneficios*\n",
    "Los beneficios de la base de datos son amplios, dado que se trata de tema de inversión y teniendo en cuanta que el futuro tiene una gran relación con la tecnología es comprensible que entender estos tipos de base de datos y saber como manipular la información para una interpretación de los datos son de gran apoyo para que tanto el equipo como los demás que están interesados en el tema de la inversión agreguen información extra que en un futuro será muy valioso como el saber cuando invertir en las criptomonedas.\n",
    "\n",
    "#### *- Objetivo*\n",
    "Pronosticar si es adecuado o no invertir en las criptomonedas.\n",
    "\n",
    "--------------------------------------------------------------------------------------------------------------------------"
   ]
  },
  {
   "cell_type": "markdown",
   "metadata": {},
   "source": [
    "- Limpieza de la base de datos\n",
    "\n",
    "*Base sin manipular*"
   ]
  },
  {
   "cell_type": "code",
   "execution_count": 105,
   "metadata": {
    "scrolled": true
   },
   "outputs": [
    {
     "data": {
      "text/html": [
       "<div>\n",
       "<style scoped>\n",
       "    .dataframe tbody tr th:only-of-type {\n",
       "        vertical-align: middle;\n",
       "    }\n",
       "\n",
       "    .dataframe tbody tr th {\n",
       "        vertical-align: top;\n",
       "    }\n",
       "\n",
       "    .dataframe thead th {\n",
       "        text-align: right;\n",
       "    }\n",
       "</style>\n",
       "<table border=\"1\" class=\"dataframe\">\n",
       "  <thead>\n",
       "    <tr style=\"text-align: right;\">\n",
       "      <th></th>\n",
       "      <th>Date</th>\n",
       "      <th>Symbol</th>\n",
       "      <th>Open</th>\n",
       "      <th>High</th>\n",
       "      <th>Low</th>\n",
       "      <th>Close</th>\n",
       "      <th>Volume BTC</th>\n",
       "      <th>Volume USD</th>\n",
       "    </tr>\n",
       "  </thead>\n",
       "  <tbody>\n",
       "    <tr>\n",
       "      <th>0</th>\n",
       "      <td>10/04/2020</td>\n",
       "      <td>BTCUSD</td>\n",
       "      <td>7315.25</td>\n",
       "      <td>7315.25</td>\n",
       "      <td>7315.25</td>\n",
       "      <td>7315.25</td>\n",
       "      <td>0.00</td>\n",
       "      <td>0.00</td>\n",
       "    </tr>\n",
       "    <tr>\n",
       "      <th>1</th>\n",
       "      <td>09/04/2020</td>\n",
       "      <td>BTCUSD</td>\n",
       "      <td>7369.60</td>\n",
       "      <td>7378.85</td>\n",
       "      <td>7115.04</td>\n",
       "      <td>7315.25</td>\n",
       "      <td>2237.13</td>\n",
       "      <td>16310014.53</td>\n",
       "    </tr>\n",
       "    <tr>\n",
       "      <th>2</th>\n",
       "      <td>08/04/2020</td>\n",
       "      <td>BTCUSD</td>\n",
       "      <td>7201.81</td>\n",
       "      <td>7432.23</td>\n",
       "      <td>7152.80</td>\n",
       "      <td>7369.60</td>\n",
       "      <td>2483.60</td>\n",
       "      <td>18138080.27</td>\n",
       "    </tr>\n",
       "    <tr>\n",
       "      <th>3</th>\n",
       "      <td>07/04/2020</td>\n",
       "      <td>BTCUSD</td>\n",
       "      <td>7336.96</td>\n",
       "      <td>7468.42</td>\n",
       "      <td>7078.00</td>\n",
       "      <td>7201.81</td>\n",
       "      <td>2333.34</td>\n",
       "      <td>17047120.32</td>\n",
       "    </tr>\n",
       "    <tr>\n",
       "      <th>4</th>\n",
       "      <td>06/04/2020</td>\n",
       "      <td>BTCUSD</td>\n",
       "      <td>6775.21</td>\n",
       "      <td>7369.76</td>\n",
       "      <td>6771.01</td>\n",
       "      <td>7336.96</td>\n",
       "      <td>3727.47</td>\n",
       "      <td>26533750.17</td>\n",
       "    </tr>\n",
       "    <tr>\n",
       "      <th>...</th>\n",
       "      <td>...</td>\n",
       "      <td>...</td>\n",
       "      <td>...</td>\n",
       "      <td>...</td>\n",
       "      <td>...</td>\n",
       "      <td>...</td>\n",
       "      <td>...</td>\n",
       "      <td>...</td>\n",
       "    </tr>\n",
       "    <tr>\n",
       "      <th>1642</th>\n",
       "      <td>12/10/2015</td>\n",
       "      <td>BTCUSD</td>\n",
       "      <td>249.50</td>\n",
       "      <td>249.50</td>\n",
       "      <td>247.60</td>\n",
       "      <td>247.60</td>\n",
       "      <td>38.28</td>\n",
       "      <td>9493.89</td>\n",
       "    </tr>\n",
       "    <tr>\n",
       "      <th>1643</th>\n",
       "      <td>11/10/2015</td>\n",
       "      <td>BTCUSD</td>\n",
       "      <td>246.30</td>\n",
       "      <td>249.50</td>\n",
       "      <td>246.30</td>\n",
       "      <td>249.50</td>\n",
       "      <td>12.22</td>\n",
       "      <td>3021.12</td>\n",
       "    </tr>\n",
       "    <tr>\n",
       "      <th>1644</th>\n",
       "      <td>10/10/2015</td>\n",
       "      <td>BTCUSD</td>\n",
       "      <td>245.39</td>\n",
       "      <td>246.30</td>\n",
       "      <td>244.60</td>\n",
       "      <td>246.30</td>\n",
       "      <td>12.17</td>\n",
       "      <td>2984.44</td>\n",
       "    </tr>\n",
       "    <tr>\n",
       "      <th>1645</th>\n",
       "      <td>09/10/2015</td>\n",
       "      <td>BTCUSD</td>\n",
       "      <td>243.95</td>\n",
       "      <td>249.97</td>\n",
       "      <td>243.60</td>\n",
       "      <td>245.39</td>\n",
       "      <td>30.99</td>\n",
       "      <td>7651.63</td>\n",
       "    </tr>\n",
       "    <tr>\n",
       "      <th>1646</th>\n",
       "      <td>08/10/2015</td>\n",
       "      <td>BTCUSD</td>\n",
       "      <td>242.50</td>\n",
       "      <td>245.00</td>\n",
       "      <td>242.50</td>\n",
       "      <td>243.95</td>\n",
       "      <td>18.80</td>\n",
       "      <td>4595.84</td>\n",
       "    </tr>\n",
       "  </tbody>\n",
       "</table>\n",
       "<p>1647 rows × 8 columns</p>\n",
       "</div>"
      ],
      "text/plain": [
       "            Date  Symbol     Open     High      Low    Close  Volume BTC  \\\n",
       "0     10/04/2020  BTCUSD  7315.25  7315.25  7315.25  7315.25        0.00   \n",
       "1     09/04/2020  BTCUSD  7369.60  7378.85  7115.04  7315.25     2237.13   \n",
       "2     08/04/2020  BTCUSD  7201.81  7432.23  7152.80  7369.60     2483.60   \n",
       "3     07/04/2020  BTCUSD  7336.96  7468.42  7078.00  7201.81     2333.34   \n",
       "4     06/04/2020  BTCUSD  6775.21  7369.76  6771.01  7336.96     3727.47   \n",
       "...          ...     ...      ...      ...      ...      ...         ...   \n",
       "1642  12/10/2015  BTCUSD   249.50   249.50   247.60   247.60       38.28   \n",
       "1643  11/10/2015  BTCUSD   246.30   249.50   246.30   249.50       12.22   \n",
       "1644  10/10/2015  BTCUSD   245.39   246.30   244.60   246.30       12.17   \n",
       "1645  09/10/2015  BTCUSD   243.95   249.97   243.60   245.39       30.99   \n",
       "1646  08/10/2015  BTCUSD   242.50   245.00   242.50   243.95       18.80   \n",
       "\n",
       "       Volume USD  \n",
       "0            0.00  \n",
       "1     16310014.53  \n",
       "2     18138080.27  \n",
       "3     17047120.32  \n",
       "4     26533750.17  \n",
       "...           ...  \n",
       "1642      9493.89  \n",
       "1643      3021.12  \n",
       "1644      2984.44  \n",
       "1645      7651.63  \n",
       "1646      4595.84  \n",
       "\n",
       "[1647 rows x 8 columns]"
      ]
     },
     "execution_count": 105,
     "metadata": {},
     "output_type": "execute_result"
    }
   ],
   "source": [
    "#Tabla\n",
    "#Importamos bibliotecas necesarias\n",
    "import pandas as pd\n",
    "import numpy as np\n",
    "import json\n",
    "import seaborn as sns\n",
    "#Visualizar base de datos\n",
    "bitcoin=pd.read_csv(\"C:/Users/HP/Documents/Facultad/Mineria/PIA/BTCUSD_day.csv\",encoding='utf8')\n",
    "bitcoin"
   ]
  },
  {
   "cell_type": "markdown",
   "metadata": {},
   "source": [
    "*Base de datos manipulada*"
   ]
  },
  {
   "cell_type": "code",
   "execution_count": 106,
   "metadata": {
    "scrolled": true
   },
   "outputs": [
    {
     "data": {
      "text/html": [
       "<div>\n",
       "<style scoped>\n",
       "    .dataframe tbody tr th:only-of-type {\n",
       "        vertical-align: middle;\n",
       "    }\n",
       "\n",
       "    .dataframe tbody tr th {\n",
       "        vertical-align: top;\n",
       "    }\n",
       "\n",
       "    .dataframe thead th {\n",
       "        text-align: right;\n",
       "    }\n",
       "</style>\n",
       "<table border=\"1\" class=\"dataframe\">\n",
       "  <thead>\n",
       "    <tr style=\"text-align: right;\">\n",
       "      <th></th>\n",
       "      <th>Fecha</th>\n",
       "      <th>Apertura</th>\n",
       "      <th>Máximo</th>\n",
       "      <th>Mínimo</th>\n",
       "      <th>Cierre</th>\n",
       "      <th>Transacciones_BTC</th>\n",
       "    </tr>\n",
       "  </thead>\n",
       "  <tbody>\n",
       "    <tr>\n",
       "      <th>0</th>\n",
       "      <td>10/04/2020</td>\n",
       "      <td>7315.25</td>\n",
       "      <td>7315.25</td>\n",
       "      <td>7315.25</td>\n",
       "      <td>7315.25</td>\n",
       "      <td>0.00</td>\n",
       "    </tr>\n",
       "    <tr>\n",
       "      <th>1</th>\n",
       "      <td>09/04/2020</td>\n",
       "      <td>7369.60</td>\n",
       "      <td>7378.85</td>\n",
       "      <td>7115.04</td>\n",
       "      <td>7315.25</td>\n",
       "      <td>2237.13</td>\n",
       "    </tr>\n",
       "    <tr>\n",
       "      <th>2</th>\n",
       "      <td>08/04/2020</td>\n",
       "      <td>7201.81</td>\n",
       "      <td>7432.23</td>\n",
       "      <td>7152.80</td>\n",
       "      <td>7369.60</td>\n",
       "      <td>2483.60</td>\n",
       "    </tr>\n",
       "    <tr>\n",
       "      <th>3</th>\n",
       "      <td>07/04/2020</td>\n",
       "      <td>7336.96</td>\n",
       "      <td>7468.42</td>\n",
       "      <td>7078.00</td>\n",
       "      <td>7201.81</td>\n",
       "      <td>2333.34</td>\n",
       "    </tr>\n",
       "    <tr>\n",
       "      <th>4</th>\n",
       "      <td>06/04/2020</td>\n",
       "      <td>6775.21</td>\n",
       "      <td>7369.76</td>\n",
       "      <td>6771.01</td>\n",
       "      <td>7336.96</td>\n",
       "      <td>3727.47</td>\n",
       "    </tr>\n",
       "    <tr>\n",
       "      <th>...</th>\n",
       "      <td>...</td>\n",
       "      <td>...</td>\n",
       "      <td>...</td>\n",
       "      <td>...</td>\n",
       "      <td>...</td>\n",
       "      <td>...</td>\n",
       "    </tr>\n",
       "    <tr>\n",
       "      <th>1642</th>\n",
       "      <td>12/10/2015</td>\n",
       "      <td>249.50</td>\n",
       "      <td>249.50</td>\n",
       "      <td>247.60</td>\n",
       "      <td>247.60</td>\n",
       "      <td>38.28</td>\n",
       "    </tr>\n",
       "    <tr>\n",
       "      <th>1643</th>\n",
       "      <td>11/10/2015</td>\n",
       "      <td>246.30</td>\n",
       "      <td>249.50</td>\n",
       "      <td>246.30</td>\n",
       "      <td>249.50</td>\n",
       "      <td>12.22</td>\n",
       "    </tr>\n",
       "    <tr>\n",
       "      <th>1644</th>\n",
       "      <td>10/10/2015</td>\n",
       "      <td>245.39</td>\n",
       "      <td>246.30</td>\n",
       "      <td>244.60</td>\n",
       "      <td>246.30</td>\n",
       "      <td>12.17</td>\n",
       "    </tr>\n",
       "    <tr>\n",
       "      <th>1645</th>\n",
       "      <td>09/10/2015</td>\n",
       "      <td>243.95</td>\n",
       "      <td>249.97</td>\n",
       "      <td>243.60</td>\n",
       "      <td>245.39</td>\n",
       "      <td>30.99</td>\n",
       "    </tr>\n",
       "    <tr>\n",
       "      <th>1646</th>\n",
       "      <td>08/10/2015</td>\n",
       "      <td>242.50</td>\n",
       "      <td>245.00</td>\n",
       "      <td>242.50</td>\n",
       "      <td>243.95</td>\n",
       "      <td>18.80</td>\n",
       "    </tr>\n",
       "  </tbody>\n",
       "</table>\n",
       "<p>1647 rows × 6 columns</p>\n",
       "</div>"
      ],
      "text/plain": [
       "           Fecha  Apertura   Máximo   Mínimo   Cierre  Transacciones_BTC\n",
       "0     10/04/2020   7315.25  7315.25  7315.25  7315.25               0.00\n",
       "1     09/04/2020   7369.60  7378.85  7115.04  7315.25            2237.13\n",
       "2     08/04/2020   7201.81  7432.23  7152.80  7369.60            2483.60\n",
       "3     07/04/2020   7336.96  7468.42  7078.00  7201.81            2333.34\n",
       "4     06/04/2020   6775.21  7369.76  6771.01  7336.96            3727.47\n",
       "...          ...       ...      ...      ...      ...                ...\n",
       "1642  12/10/2015    249.50   249.50   247.60   247.60              38.28\n",
       "1643  11/10/2015    246.30   249.50   246.30   249.50              12.22\n",
       "1644  10/10/2015    245.39   246.30   244.60   246.30              12.17\n",
       "1645  09/10/2015    243.95   249.97   243.60   245.39              30.99\n",
       "1646  08/10/2015    242.50   245.00   242.50   243.95              18.80\n",
       "\n",
       "[1647 rows x 6 columns]"
      ]
     },
     "execution_count": 106,
     "metadata": {},
     "output_type": "execute_result"
    }
   ],
   "source": [
    "#Se eliminan las columnas que no son de utilidad\n",
    "del(bitcoin['Symbol'])\n",
    "#Esta columna representa el simbolo del cambio pero se sabe que es a USD por lo que no es importante\n",
    "del(bitcoin['Volume USD'])\n",
    "#No se quiere saber la cantidad en dolares de las transacciones, solo la cantidad de monedas.\n",
    "\n",
    "#no funciono con la funcion de .drop() y recurrimos a usar la de del()\n",
    "#Renombramos las columnas a español para facilitar el entendimiento de nuestro equipo y lectores\n",
    "bitcoin.rename(columns= {'Date': 'Fecha','Open':'Apertura','High':'Máximo','Low': 'Mínimo','Close': 'Cierre',\n",
    "                         'Volume BTC': 'Transacciones_BTC'},inplace=True)\n",
    "bitcoin"
   ]
  },
  {
   "cell_type": "code",
   "execution_count": 23,
   "metadata": {},
   "outputs": [
    {
     "data": {
      "text/plain": [
       "Fecha                0\n",
       "Apertura             0\n",
       "Máximo               0\n",
       "Mínimo               0\n",
       "Cierre               0\n",
       "Transacciones_BTC    0\n",
       "dtype: int64"
      ]
     },
     "execution_count": 23,
     "metadata": {},
     "output_type": "execute_result"
    }
   ],
   "source": [
    "bitcoin.isnull().sum()"
   ]
  },
  {
   "cell_type": "code",
   "execution_count": 59,
   "metadata": {},
   "outputs": [
    {
     "data": {
      "text/plain": [
       "(1647, 6)"
      ]
     },
     "execution_count": 59,
     "metadata": {},
     "output_type": "execute_result"
    }
   ],
   "source": [
    "bitcoin.shape"
   ]
  },
  {
   "cell_type": "code",
   "execution_count": 60,
   "metadata": {},
   "outputs": [],
   "source": [
    "bitcoin.to_csv('Basededatosbitcoin.csv')\n",
    "#Creamos un archivo cvs con los datos ya modificados"
   ]
  },
  {
   "cell_type": "markdown",
   "metadata": {},
   "source": [
    "### *Información estadística básica*"
   ]
  },
  {
   "cell_type": "markdown",
   "metadata": {},
   "source": [
    "La información con la cual se trabajará es con los datos de las columnas de \"Mínimo\" y \"Máximo\", ya que como se comento se quiere saber si es adecuado invertir o no. La tendencia en que se moverá la criptomoneda durante el día es de vital importancia para visualizar el objetivo."
   ]
  },
  {
   "cell_type": "code",
   "execution_count": 57,
   "metadata": {},
   "outputs": [
    {
     "name": "stdout",
     "output_type": "stream",
     "text": [
      "Elementos no nulos de Mínimo:  1647\n",
      "Elementos no nulos de Máximo:  1647\n"
     ]
    }
   ],
   "source": [
    "print(\"Elementos no nulos de Mínimo: \", bitcoin['Mínimo'].count())\n",
    "print(\"Elementos no nulos de Máximo: \", bitcoin['Máximo'].count())"
   ]
  },
  {
   "cell_type": "markdown",
   "metadata": {},
   "source": [
    "#### Primero se observa si no existe algun valor nulo. Se observa para saber si algun día el valor del \"Bitcoin\" tuvo alguna tendencia decreciente a tal grado que no hubó venta. "
   ]
  },
  {
   "cell_type": "code",
   "execution_count": 58,
   "metadata": {},
   "outputs": [
    {
     "name": "stdout",
     "output_type": "stream",
     "text": [
      "Valor máximo de la columna Mínimo:  18870.0\n",
      "Valor mínimo de la columna Mínimo:  236.0\n",
      "\n",
      "Valor máximo de la columna Máximo:  19999.0\n",
      "Valor mínimo de la columna Máximo:  245.0\n"
     ]
    }
   ],
   "source": [
    "print(\"Valor máximo de la columna Mínimo: \", bitcoin['Mínimo'].max())\n",
    "print(\"Valor mínimo de la columna Mínimo: \", bitcoin['Mínimo'].min())\n",
    "print(\"\")\n",
    "print(\"Valor máximo de la columna Máximo: \", bitcoin['Máximo'].max())\n",
    "print(\"Valor mínimo de la columna Máximo: \", bitcoin['Máximo'].min())"
   ]
  },
  {
   "cell_type": "markdown",
   "metadata": {},
   "source": [
    "#### Revisamos el valor más bajo y más alto.\n",
    "#### Podemos observar que lo más bajo del Mínimo que llegó el \"Bitcoin\" fue de 236 USD lo cual quiere decir que incluso en su peor momento tuvo un valor aceptable mientras que el valor más bajo del Máximo que llegó fue de 245 USD que de igual manera es un valor aceptable."
   ]
  },
  {
   "cell_type": "code",
   "execution_count": 46,
   "metadata": {},
   "outputs": [
    {
     "name": "stdout",
     "output_type": "stream",
     "text": [
      "           Mínimo\n",
      "Media:                4000.0\n",
      "Varianza:             14140120.515572675\n",
      "Desviación estandar:  3760.3351600053784\n",
      "Valor de asimetría:   0.507081024271698\n",
      "Forma distribucion:  -0.5284241117408217\n",
      "\n",
      "           Máximo\n",
      "Media:                4295.09\n",
      "Varianza:             16634385.346904585\n",
      "Desviación estandar:  4078.52735027051\n",
      "Valor de asimetría:   0.6033387916214218\n",
      "Forma distribucion:  -0.23871383654310963\n",
      "\n"
     ]
    }
   ],
   "source": [
    "print(\"           Mínimo\")\n",
    "print(\"Media:               \", bitcoin['Mínimo'].median())\n",
    "print(\"Varianza:            \", bitcoin['Mínimo'].var())\n",
    "print(\"Desviación estandar: \", bitcoin['Mínimo'].std())\n",
    "print(\"Valor de asimetría:  \", bitcoin['Mínimo'].skew())\n",
    "print(\"Forma distribucion: \", bitcoin['Mínimo'].kurt())\n",
    "print(\"\")\n",
    "\n",
    "print(\"           Máximo\")\n",
    "print(\"Media:               \", bitcoin['Máximo'].median())\n",
    "print(\"Varianza:            \", bitcoin['Máximo'].var())\n",
    "print(\"Desviación estandar: \", bitcoin['Máximo'].std())\n",
    "print(\"Valor de asimetría:  \", bitcoin['Máximo'].skew())\n",
    "print(\"Forma distribucion: \", bitcoin['Máximo'].kurt())\n",
    "print(\"\")"
   ]
  },
  {
   "cell_type": "markdown",
   "metadata": {},
   "source": [
    "#### Como puede observarse, la desviación de el Máximo es muy alto por lo que nos da a entender que destaca que el riesgo es alto y el rendimiento es de naturaleza más volátil y, como tal, también inestable. Por lo cual no es conveniente."
   ]
  },
  {
   "cell_type": "code",
   "execution_count": 47,
   "metadata": {},
   "outputs": [
    {
     "data": {
      "text/html": [
       "<div>\n",
       "<style scoped>\n",
       "    .dataframe tbody tr th:only-of-type {\n",
       "        vertical-align: middle;\n",
       "    }\n",
       "\n",
       "    .dataframe tbody tr th {\n",
       "        vertical-align: top;\n",
       "    }\n",
       "\n",
       "    .dataframe thead th {\n",
       "        text-align: right;\n",
       "    }\n",
       "</style>\n",
       "<table border=\"1\" class=\"dataframe\">\n",
       "  <thead>\n",
       "    <tr style=\"text-align: right;\">\n",
       "      <th></th>\n",
       "      <th>Apertura</th>\n",
       "      <th>Máximo</th>\n",
       "      <th>Mínimo</th>\n",
       "      <th>Cierre</th>\n",
       "      <th>Transacciones_BTC</th>\n",
       "    </tr>\n",
       "  </thead>\n",
       "  <tbody>\n",
       "    <tr>\n",
       "      <th>Apertura</th>\n",
       "      <td>1.000000</td>\n",
       "      <td>0.998338</td>\n",
       "      <td>0.997104</td>\n",
       "      <td>0.996786</td>\n",
       "      <td>0.183445</td>\n",
       "    </tr>\n",
       "    <tr>\n",
       "      <th>Máximo</th>\n",
       "      <td>0.998338</td>\n",
       "      <td>1.000000</td>\n",
       "      <td>0.996403</td>\n",
       "      <td>0.998504</td>\n",
       "      <td>0.199262</td>\n",
       "    </tr>\n",
       "    <tr>\n",
       "      <th>Mínimo</th>\n",
       "      <td>0.997104</td>\n",
       "      <td>0.996403</td>\n",
       "      <td>1.000000</td>\n",
       "      <td>0.998124</td>\n",
       "      <td>0.151037</td>\n",
       "    </tr>\n",
       "    <tr>\n",
       "      <th>Cierre</th>\n",
       "      <td>0.996786</td>\n",
       "      <td>0.998504</td>\n",
       "      <td>0.998124</td>\n",
       "      <td>1.000000</td>\n",
       "      <td>0.179781</td>\n",
       "    </tr>\n",
       "    <tr>\n",
       "      <th>Transacciones_BTC</th>\n",
       "      <td>0.183445</td>\n",
       "      <td>0.199262</td>\n",
       "      <td>0.151037</td>\n",
       "      <td>0.179781</td>\n",
       "      <td>1.000000</td>\n",
       "    </tr>\n",
       "  </tbody>\n",
       "</table>\n",
       "</div>"
      ],
      "text/plain": [
       "                   Apertura    Máximo    Mínimo    Cierre  Transacciones_BTC\n",
       "Apertura           1.000000  0.998338  0.997104  0.996786           0.183445\n",
       "Máximo             0.998338  1.000000  0.996403  0.998504           0.199262\n",
       "Mínimo             0.997104  0.996403  1.000000  0.998124           0.151037\n",
       "Cierre             0.996786  0.998504  0.998124  1.000000           0.179781\n",
       "Transacciones_BTC  0.183445  0.199262  0.151037  0.179781           1.000000"
      ]
     },
     "execution_count": 47,
     "metadata": {},
     "output_type": "execute_result"
    }
   ],
   "source": [
    "bitcoin.corr()"
   ]
  },
  {
   "cell_type": "markdown",
   "metadata": {},
   "source": [
    "#### Vemos la correlación entre el Máximo y Mínimo, el cual es ambas tienen forma similar de moverse lo cual tambien nos rezalta la gran volatilidad."
   ]
  },
  {
   "cell_type": "code",
   "execution_count": 48,
   "metadata": {},
   "outputs": [
    {
     "data": {
      "text/html": [
       "<div>\n",
       "<style scoped>\n",
       "    .dataframe tbody tr th:only-of-type {\n",
       "        vertical-align: middle;\n",
       "    }\n",
       "\n",
       "    .dataframe tbody tr th {\n",
       "        vertical-align: top;\n",
       "    }\n",
       "\n",
       "    .dataframe thead th {\n",
       "        text-align: right;\n",
       "    }\n",
       "</style>\n",
       "<table border=\"1\" class=\"dataframe\">\n",
       "  <thead>\n",
       "    <tr style=\"text-align: right;\">\n",
       "      <th></th>\n",
       "      <th>Apertura</th>\n",
       "      <th>Máximo</th>\n",
       "      <th>Mínimo</th>\n",
       "      <th>Cierre</th>\n",
       "      <th>Transacciones_BTC</th>\n",
       "    </tr>\n",
       "  </thead>\n",
       "  <tbody>\n",
       "    <tr>\n",
       "      <th>Apertura</th>\n",
       "      <td>1.550580e+07</td>\n",
       "      <td>1.603349e+07</td>\n",
       "      <td>1.476434e+07</td>\n",
       "      <td>1.545110e+07</td>\n",
       "      <td>3.204880e+06</td>\n",
       "    </tr>\n",
       "    <tr>\n",
       "      <th>Máximo</th>\n",
       "      <td>1.603349e+07</td>\n",
       "      <td>1.663439e+07</td>\n",
       "      <td>1.528147e+07</td>\n",
       "      <td>1.603113e+07</td>\n",
       "      <td>3.605683e+06</td>\n",
       "    </tr>\n",
       "    <tr>\n",
       "      <th>Mínimo</th>\n",
       "      <td>1.476434e+07</td>\n",
       "      <td>1.528147e+07</td>\n",
       "      <td>1.414012e+07</td>\n",
       "      <td>1.477480e+07</td>\n",
       "      <td>2.519813e+06</td>\n",
       "    </tr>\n",
       "    <tr>\n",
       "      <th>Cierre</th>\n",
       "      <td>1.545110e+07</td>\n",
       "      <td>1.603113e+07</td>\n",
       "      <td>1.477480e+07</td>\n",
       "      <td>1.549606e+07</td>\n",
       "      <td>3.139882e+06</td>\n",
       "    </tr>\n",
       "    <tr>\n",
       "      <th>Transacciones_BTC</th>\n",
       "      <td>3.204880e+06</td>\n",
       "      <td>3.605683e+06</td>\n",
       "      <td>2.519813e+06</td>\n",
       "      <td>3.139882e+06</td>\n",
       "      <td>1.968427e+07</td>\n",
       "    </tr>\n",
       "  </tbody>\n",
       "</table>\n",
       "</div>"
      ],
      "text/plain": [
       "                       Apertura        Máximo        Mínimo        Cierre  \\\n",
       "Apertura           1.550580e+07  1.603349e+07  1.476434e+07  1.545110e+07   \n",
       "Máximo             1.603349e+07  1.663439e+07  1.528147e+07  1.603113e+07   \n",
       "Mínimo             1.476434e+07  1.528147e+07  1.414012e+07  1.477480e+07   \n",
       "Cierre             1.545110e+07  1.603113e+07  1.477480e+07  1.549606e+07   \n",
       "Transacciones_BTC  3.204880e+06  3.605683e+06  2.519813e+06  3.139882e+06   \n",
       "\n",
       "                   Transacciones_BTC  \n",
       "Apertura                3.204880e+06  \n",
       "Máximo                  3.605683e+06  \n",
       "Mínimo                  2.519813e+06  \n",
       "Cierre                  3.139882e+06  \n",
       "Transacciones_BTC       1.968427e+07  "
      ]
     },
     "execution_count": 48,
     "metadata": {},
     "output_type": "execute_result"
    }
   ],
   "source": [
    "bitcoin.cov()"
   ]
  },
  {
   "cell_type": "markdown",
   "metadata": {},
   "source": [
    "#### Su Covarianza nos indica que van a la misma dirección."
   ]
  },
  {
   "cell_type": "code",
   "execution_count": 49,
   "metadata": {},
   "outputs": [
    {
     "data": {
      "text/plain": [
       "<AxesSubplot:xlabel='Mínimo', ylabel='Máximo'>"
      ]
     },
     "execution_count": 49,
     "metadata": {},
     "output_type": "execute_result"
    },
    {
     "data": {
      "image/png": "[encoded data removed]",
      "text/plain": [
       "<Figure size 432x288 with 1 Axes>"
      ]
     },
     "metadata": {
      "needs_background": "light"
     },
     "output_type": "display_data"
    }
   ],
   "source": [
    "bitcoin[bitcoin['Mínimo'] < 20000].plot.scatter(x='Mínimo', y='Máximo')"
   ]
  },
  {
   "cell_type": "markdown",
   "metadata": {},
   "source": [
    "#### En la gráfica anterior, tomamos todos los elementos de los datos y graficamos la relación entre el precio Mínimo y el precio Máximo."
   ]
  },
  {
   "cell_type": "code",
   "execution_count": 50,
   "metadata": {},
   "outputs": [
    {
     "data": {
      "text/plain": [
       "<AxesSubplot:xlabel='Mínimo', ylabel='Density'>"
      ]
     },
     "execution_count": 50,
     "metadata": {},
     "output_type": "execute_result"
    },
    {
     "data": {
      "image/png": "[encoded data removed]",
      "text/plain": [
       "<Figure size 432x288 with 1 Axes>"
      ]
     },
     "metadata": {
      "needs_background": "light"
     },
     "output_type": "display_data"
    }
   ],
   "source": [
    "sns.kdeplot(bitcoin.query('Mínimo < 20000').Mínimo)"
   ]
  },
  {
   "cell_type": "code",
   "execution_count": 51,
   "metadata": {},
   "outputs": [
    {
     "data": {
      "text/plain": [
       "<seaborn.axisgrid.JointGrid at 0x1b86659a2b0>"
      ]
     },
     "execution_count": 51,
     "metadata": {},
     "output_type": "execute_result"
    },
    {
     "data": {
      "image/png": "[encoded data removed]",
      "text/plain": [
       "<Figure size 432x432 with 3 Axes>"
      ]
     },
     "metadata": {
      "needs_background": "light"
     },
     "output_type": "display_data"
    }
   ],
   "source": [
    "sns.jointplot(x='Mínimo', y='Máximo', data=bitcoin[bitcoin['Mínimo'] < 20000])"
   ]
  },
  {
   "cell_type": "markdown",
   "metadata": {},
   "source": [
    "#### Esta gráfica muestra la relación entre los precios de Mínimo y de apertura del Bitcoin, así como un histograma en horizontal para el Mínimo y uno vertical para el Máximo"
   ]
  },
  {
   "cell_type": "code",
   "execution_count": 52,
   "metadata": {},
   "outputs": [
    {
     "data": {
      "text/plain": [
       "<seaborn.axisgrid.JointGrid at 0x1b8663d3310>"
      ]
     },
     "execution_count": 52,
     "metadata": {},
     "output_type": "execute_result"
    },
    {
     "data": {
      "image/png": "[encoded data removed]",
      "text/plain": [
       "<Figure size 432x432 with 3 Axes>"
      ]
     },
     "metadata": {
      "needs_background": "light"
     },
     "output_type": "display_data"
    }
   ],
   "source": [
    "sns.jointplot(x='Mínimo', y='Máximo', data=bitcoin[bitcoin['Mínimo'] < 20000], kind='hex', \n",
    "              gridsize=8)"
   ]
  },
  {
   "cell_type": "markdown",
   "metadata": {},
   "source": [
    "#### Esta gráfica muestra la cantidad de elementos de Mínimo y cierre en cierto intervalo, así como un histograma en horizontal para el Mínimo y uno vertical para el Máximo."
   ]
  },
  {
   "cell_type": "code",
   "execution_count": 53,
   "metadata": {},
   "outputs": [
    {
     "data": {
      "text/plain": [
       "<AxesSubplot:xlabel='Mínimo', ylabel='Máximo'>"
      ]
     },
     "execution_count": 53,
     "metadata": {},
     "output_type": "execute_result"
    },
    {
     "data": {
      "image/png": "[encoded data removed]",
      "text/plain": [
       "<Figure size 432x288 with 1 Axes>"
      ]
     },
     "metadata": {
      "needs_background": "light"
     },
     "output_type": "display_data"
    }
   ],
   "source": [
    "sns.violinplot(\n",
    "    x='Mínimo',\n",
    "    y='Máximo',\n",
    "    data=bitcoin[bitcoin.Mínimo.isin(bitcoin.Mínimo.value_counts()[:].index)]\n",
    ")"
   ]
  },
  {
   "cell_type": "code",
   "execution_count": 103,
   "metadata": {},
   "outputs": [
    {
     "data": {
      "image/png": "[encoded data removed]",
      "text/plain": [
       "<Figure size 1296x1296 with 2 Axes>"
      ]
     },
     "metadata": {
      "needs_background": "light"
     },
     "output_type": "display_data"
    }
   ],
   "source": [
    "df = bitcoin[bitcoin.Apertura.isin(bitcoin.Apertura.value_counts().head().index)]\n",
    "import seaborn as sns\n",
    "import matplotlib.pyplot as plt\n",
    "\n",
    "f,ax=plt.subplots(figsize = (18,18))\n",
    "sns.heatmap(df.corr(),annot= True,linewidths=0.5,fmt = \".1f\",ax=ax)\n",
    "plt.xticks(rotation=90)\n",
    "plt.yticks(rotation=0)\n",
    "plt.title('Mapa de correlación')\n",
    "plt.savefig('graph.png')\n",
    "plt.show()"
   ]
  },
  {
   "cell_type": "markdown",
   "metadata": {},
   "source": [
    "#### Esta matriz de correlación muestra el coeficiente de correlación entre cada uno de los elementos de la base de datos."
   ]
  },
  {
   "cell_type": "markdown",
   "metadata": {},
   "source": [
    "------------------------------------------------------------------------------\n",
    "## Base de datos\n",
    "- *Nombre:* Zillow Economics Data\n",
    "- *Url:* *[Zillow](https://www.kaggle.com/zillow/zecon)*"
   ]
  },
  {
   "cell_type": "markdown",
   "metadata": {},
   "source": [
    "--------------------------------------------------------------------------------------------------------------------------\n",
    "#### *- Descripción de la base de datos*\n",
    "Zillow es una empresa estadounidense de mercado de bienes raíces en línea que recopila, limpia y publica datos económicos y de vivienda de una variedad de fuentes públicas y privadas. Los datos de registros de propiedad públicos archivados con los municipios locales, incluidas escrituras, hechos de propiedad, información de parcelas e historiales de transacciones, forman la columna vertebral de nuestros productos de datos y se completan con datos patentados derivados de listados de propiedades y comportamiento del usuario en Zillow.\n",
    "\n",
    "El documento cuenta con diversos archivos de Excel, que por elección del equipo se trabajará con la base de datos de Zip time el cual tiene registrado el valor de las diferentes viviendas dentro de un tiempo de un año (valor al final del día de los tipos de viviendas)\n",
    "\n",
    "#### *- Información de las columnas:*\n",
    "\n",
    "Índice de alquiler de Zillow (ZRI) es el valor de la tasa de alquiler promedio de mercado estimada en una región y tipo de vivienda determinados.\n",
    "\n",
    "Índice de valor de la vivienda de Zillow (ZHVI) es el valor medio estimado de la vivienda en una región y tipo de vivienda determinados en dólares.\n",
    "\n",
    "1. Fecha de la entrada (Representa el día en cuestión del año, tiene información tipo dato)\n",
    "2. Número de región (Región del estado, tipo dato)\n",
    "3. Todas las viviendas (Viviendas unifamiliares, en condominio y cooperativas con un registro del condado, tipo flotante)\n",
    "4. Condominio o Cooperativa (Condominios y casas cooperativas, tipo flotante)\n",
    "5. Unidades multifamiliares (Unidades en edificios con 5 o más unidades de vivienda, que no son condominios o cooperativas, tipo flotante)\n",
    "6. Niveles (Por metro se determina los niveles de precios: inferior, medio y superior, tipo flotante)\n",
    "\n",
    "#### *- Tamaño de la base de datos*\n",
    "\n",
    "La base de datos tiene una cantidad de 13 columnas y 365 filas\n",
    "*Toda la información presentada es con la base de datos original, no es de la base de datos limpia*\n",
    "\n",
    "#### *- Elección de la base de datos*\n",
    " \n",
    "La situación de las personas (estudiantes, trabajadores, jóvenes, adultos, etc.) que quieren iniciar una nueva vida fuera del lugar donde se encontraban viviendo es más difícil con el paso de los años por los altos precios, la falta de disponibilidad de espacios y muchos otros factores, por ellos el equipo eligió la base de datos para investigar que opción de tipo de vivienda es más recomendable cuando se inicia desde cero.\n",
    "\n",
    "\n",
    "#### *- Beneficios*\n",
    "No todos los estudiantes sienten curiosidad por investigar el precio de una vivienda (sea cual sea el tipo) al igual que no conocen que opción es la más optima.\n",
    "\n",
    "#### *- Objetivo*\n",
    "Evaluar los diferentes tipos de precios y conocer la mejor opción de vivienda.\n",
    "\n",
    "--------------------------------------------------------------------------------------------------------------------------"
   ]
  },
  {
   "cell_type": "markdown",
   "metadata": {},
   "source": [
    "- Limpieza de la base de datos\n",
    "\n",
    "*Base sin manipular*"
   ]
  },
  {
   "cell_type": "code",
   "execution_count": 107,
   "metadata": {
    "scrolled": true
   },
   "outputs": [
    {
     "data": {
      "text/html": [
       "<div>\n",
       "<style scoped>\n",
       "    .dataframe tbody tr th:only-of-type {\n",
       "        vertical-align: middle;\n",
       "    }\n",
       "\n",
       "    .dataframe tbody tr th {\n",
       "        vertical-align: top;\n",
       "    }\n",
       "\n",
       "    .dataframe thead th {\n",
       "        text-align: right;\n",
       "    }\n",
       "</style>\n",
       "<table border=\"1\" class=\"dataframe\">\n",
       "  <thead>\n",
       "    <tr style=\"text-align: right;\">\n",
       "      <th></th>\n",
       "      <th>Date</th>\n",
       "      <th>RegionName</th>\n",
       "      <th>ZHVI_AllHomes</th>\n",
       "      <th>ZHVI_BottomTier</th>\n",
       "      <th>ZHVI_CondoCoop</th>\n",
       "      <th>ZHVI_MiddleTier</th>\n",
       "      <th>ZHVI_SingleFamilyResidence</th>\n",
       "      <th>ZHVI_TopTier</th>\n",
       "      <th>ZRI_AllHomes</th>\n",
       "      <th>ZRI_AllHomesPlusMultifamily</th>\n",
       "      <th>ZriPerSqft_AllHomes</th>\n",
       "      <th>Zri_MultiFamilyResidenceRental</th>\n",
       "      <th>Zri_SingleFamilyResidenceRental</th>\n",
       "    </tr>\n",
       "  </thead>\n",
       "  <tbody>\n",
       "    <tr>\n",
       "      <th>0</th>\n",
       "      <td>01/01/2002</td>\n",
       "      <td>1001</td>\n",
       "      <td>132400.0</td>\n",
       "      <td>94100.0</td>\n",
       "      <td>93200.0</td>\n",
       "      <td>132400.0</td>\n",
       "      <td>138400.0</td>\n",
       "      <td>175000.0</td>\n",
       "      <td>NaN</td>\n",
       "      <td>NaN</td>\n",
       "      <td>NaN</td>\n",
       "      <td>NaN</td>\n",
       "      <td>NaN</td>\n",
       "    </tr>\n",
       "    <tr>\n",
       "      <th>1</th>\n",
       "      <td>02/01/2002</td>\n",
       "      <td>1002</td>\n",
       "      <td>194200.0</td>\n",
       "      <td>136000.0</td>\n",
       "      <td>115900.0</td>\n",
       "      <td>194200.0</td>\n",
       "      <td>212000.0</td>\n",
       "      <td>295600.0</td>\n",
       "      <td>NaN</td>\n",
       "      <td>NaN</td>\n",
       "      <td>NaN</td>\n",
       "      <td>NaN</td>\n",
       "      <td>NaN</td>\n",
       "    </tr>\n",
       "    <tr>\n",
       "      <th>2</th>\n",
       "      <td>03/01/2002</td>\n",
       "      <td>1005</td>\n",
       "      <td>163900.0</td>\n",
       "      <td>131000.0</td>\n",
       "      <td>NaN</td>\n",
       "      <td>163900.0</td>\n",
       "      <td>164000.0</td>\n",
       "      <td>208400.0</td>\n",
       "      <td>NaN</td>\n",
       "      <td>NaN</td>\n",
       "      <td>NaN</td>\n",
       "      <td>NaN</td>\n",
       "      <td>NaN</td>\n",
       "    </tr>\n",
       "    <tr>\n",
       "      <th>3</th>\n",
       "      <td>04/01/2002</td>\n",
       "      <td>1007</td>\n",
       "      <td>177300.0</td>\n",
       "      <td>128000.0</td>\n",
       "      <td>123300.0</td>\n",
       "      <td>177300.0</td>\n",
       "      <td>179300.0</td>\n",
       "      <td>235700.0</td>\n",
       "      <td>NaN</td>\n",
       "      <td>NaN</td>\n",
       "      <td>NaN</td>\n",
       "      <td>NaN</td>\n",
       "      <td>NaN</td>\n",
       "    </tr>\n",
       "    <tr>\n",
       "      <th>4</th>\n",
       "      <td>05/01/2002</td>\n",
       "      <td>1008</td>\n",
       "      <td>150500.0</td>\n",
       "      <td>103000.0</td>\n",
       "      <td>NaN</td>\n",
       "      <td>150500.0</td>\n",
       "      <td>150500.0</td>\n",
       "      <td>196400.0</td>\n",
       "      <td>NaN</td>\n",
       "      <td>NaN</td>\n",
       "      <td>NaN</td>\n",
       "      <td>NaN</td>\n",
       "      <td>NaN</td>\n",
       "    </tr>\n",
       "    <tr>\n",
       "      <th>...</th>\n",
       "      <td>...</td>\n",
       "      <td>...</td>\n",
       "      <td>...</td>\n",
       "      <td>...</td>\n",
       "      <td>...</td>\n",
       "      <td>...</td>\n",
       "      <td>...</td>\n",
       "      <td>...</td>\n",
       "      <td>...</td>\n",
       "      <td>...</td>\n",
       "      <td>...</td>\n",
       "      <td>...</td>\n",
       "      <td>...</td>\n",
       "    </tr>\n",
       "    <tr>\n",
       "      <th>360</th>\n",
       "      <td>27/12/2002</td>\n",
       "      <td>2465</td>\n",
       "      <td>489600.0</td>\n",
       "      <td>374700.0</td>\n",
       "      <td>380800.0</td>\n",
       "      <td>489600.0</td>\n",
       "      <td>511400.0</td>\n",
       "      <td>1079700.0</td>\n",
       "      <td>NaN</td>\n",
       "      <td>NaN</td>\n",
       "      <td>NaN</td>\n",
       "      <td>NaN</td>\n",
       "      <td>NaN</td>\n",
       "    </tr>\n",
       "    <tr>\n",
       "      <th>361</th>\n",
       "      <td>28/12/2002</td>\n",
       "      <td>2466</td>\n",
       "      <td>501800.0</td>\n",
       "      <td>396400.0</td>\n",
       "      <td>385700.0</td>\n",
       "      <td>501800.0</td>\n",
       "      <td>541200.0</td>\n",
       "      <td>750100.0</td>\n",
       "      <td>NaN</td>\n",
       "      <td>NaN</td>\n",
       "      <td>NaN</td>\n",
       "      <td>NaN</td>\n",
       "      <td>NaN</td>\n",
       "    </tr>\n",
       "    <tr>\n",
       "      <th>362</th>\n",
       "      <td>29/12/2002</td>\n",
       "      <td>2467</td>\n",
       "      <td>NaN</td>\n",
       "      <td>NaN</td>\n",
       "      <td>NaN</td>\n",
       "      <td>NaN</td>\n",
       "      <td>NaN</td>\n",
       "      <td>NaN</td>\n",
       "      <td>NaN</td>\n",
       "      <td>NaN</td>\n",
       "      <td>NaN</td>\n",
       "      <td>NaN</td>\n",
       "      <td>NaN</td>\n",
       "    </tr>\n",
       "    <tr>\n",
       "      <th>363</th>\n",
       "      <td>30/12/2002</td>\n",
       "      <td>2468</td>\n",
       "      <td>815500.0</td>\n",
       "      <td>591500.0</td>\n",
       "      <td>NaN</td>\n",
       "      <td>815500.0</td>\n",
       "      <td>820600.0</td>\n",
       "      <td>1115800.0</td>\n",
       "      <td>NaN</td>\n",
       "      <td>NaN</td>\n",
       "      <td>NaN</td>\n",
       "      <td>NaN</td>\n",
       "      <td>NaN</td>\n",
       "    </tr>\n",
       "    <tr>\n",
       "      <th>364</th>\n",
       "      <td>31/12/2002</td>\n",
       "      <td>2469</td>\n",
       "      <td>889700.0</td>\n",
       "      <td>534700.0</td>\n",
       "      <td>343500.0</td>\n",
       "      <td>684000.0</td>\n",
       "      <td>599600.0</td>\n",
       "      <td>739600.0</td>\n",
       "      <td>NaN</td>\n",
       "      <td>NaN</td>\n",
       "      <td>NaN</td>\n",
       "      <td>NaN</td>\n",
       "      <td>NaN</td>\n",
       "    </tr>\n",
       "  </tbody>\n",
       "</table>\n",
       "<p>365 rows × 13 columns</p>\n",
       "</div>"
      ],
      "text/plain": [
       "           Date  RegionName  ZHVI_AllHomes  ZHVI_BottomTier  ZHVI_CondoCoop  \\\n",
       "0    01/01/2002        1001       132400.0          94100.0         93200.0   \n",
       "1    02/01/2002        1002       194200.0         136000.0        115900.0   \n",
       "2    03/01/2002        1005       163900.0         131000.0             NaN   \n",
       "3    04/01/2002        1007       177300.0         128000.0        123300.0   \n",
       "4    05/01/2002        1008       150500.0         103000.0             NaN   \n",
       "..          ...         ...            ...              ...             ...   \n",
       "360  27/12/2002        2465       489600.0         374700.0        380800.0   \n",
       "361  28/12/2002        2466       501800.0         396400.0        385700.0   \n",
       "362  29/12/2002        2467            NaN              NaN             NaN   \n",
       "363  30/12/2002        2468       815500.0         591500.0             NaN   \n",
       "364  31/12/2002        2469       889700.0         534700.0        343500.0   \n",
       "\n",
       "     ZHVI_MiddleTier  ZHVI_SingleFamilyResidence  ZHVI_TopTier  ZRI_AllHomes  \\\n",
       "0           132400.0                    138400.0      175000.0           NaN   \n",
       "1           194200.0                    212000.0      295600.0           NaN   \n",
       "2           163900.0                    164000.0      208400.0           NaN   \n",
       "3           177300.0                    179300.0      235700.0           NaN   \n",
       "4           150500.0                    150500.0      196400.0           NaN   \n",
       "..               ...                         ...           ...           ...   \n",
       "360         489600.0                    511400.0     1079700.0           NaN   \n",
       "361         501800.0                    541200.0      750100.0           NaN   \n",
       "362              NaN                         NaN           NaN           NaN   \n",
       "363         815500.0                    820600.0     1115800.0           NaN   \n",
       "364         684000.0                    599600.0      739600.0           NaN   \n",
       "\n",
       "     ZRI_AllHomesPlusMultifamily  ZriPerSqft_AllHomes  \\\n",
       "0                            NaN                  NaN   \n",
       "1                            NaN                  NaN   \n",
       "2                            NaN                  NaN   \n",
       "3                            NaN                  NaN   \n",
       "4                            NaN                  NaN   \n",
       "..                           ...                  ...   \n",
       "360                          NaN                  NaN   \n",
       "361                          NaN                  NaN   \n",
       "362                          NaN                  NaN   \n",
       "363                          NaN                  NaN   \n",
       "364                          NaN                  NaN   \n",
       "\n",
       "     Zri_MultiFamilyResidenceRental  Zri_SingleFamilyResidenceRental  \n",
       "0                               NaN                              NaN  \n",
       "1                               NaN                              NaN  \n",
       "2                               NaN                              NaN  \n",
       "3                               NaN                              NaN  \n",
       "4                               NaN                              NaN  \n",
       "..                              ...                              ...  \n",
       "360                             NaN                              NaN  \n",
       "361                             NaN                              NaN  \n",
       "362                             NaN                              NaN  \n",
       "363                             NaN                              NaN  \n",
       "364                             NaN                              NaN  \n",
       "\n",
       "[365 rows x 13 columns]"
      ]
     },
     "execution_count": 107,
     "metadata": {},
     "output_type": "execute_result"
    }
   ],
   "source": [
    "#Tabla\n",
    "#Importamos bibliotecas necesarias\n",
    "import pandas as pd\n",
    "import numpy as np\n",
    "import json\n",
    "import seaborn as sns\n",
    "#Visualizar base de datos\n",
    "zillow=pd.read_csv(\"C:/Users/HP/Documents/Facultad/Mineria/PIA/Zip_time_series.csv\",encoding='utf8')\n",
    "zillow"
   ]
  },
  {
   "cell_type": "markdown",
   "metadata": {},
   "source": [
    "*Base de datos manipulada*"
   ]
  },
  {
   "cell_type": "code",
   "execution_count": 108,
   "metadata": {
    "scrolled": true
   },
   "outputs": [
    {
     "data": {
      "text/html": [
       "<div>\n",
       "<style scoped>\n",
       "    .dataframe tbody tr th:only-of-type {\n",
       "        vertical-align: middle;\n",
       "    }\n",
       "\n",
       "    .dataframe tbody tr th {\n",
       "        vertical-align: top;\n",
       "    }\n",
       "\n",
       "    .dataframe thead th {\n",
       "        text-align: right;\n",
       "    }\n",
       "</style>\n",
       "<table border=\"1\" class=\"dataframe\">\n",
       "  <thead>\n",
       "    <tr style=\"text-align: right;\">\n",
       "      <th></th>\n",
       "      <th>Casas</th>\n",
       "      <th>Inferior</th>\n",
       "      <th>Condominio</th>\n",
       "      <th>Medio</th>\n",
       "      <th>Unifamiliar</th>\n",
       "      <th>Superior</th>\n",
       "    </tr>\n",
       "  </thead>\n",
       "  <tbody>\n",
       "    <tr>\n",
       "      <th>0</th>\n",
       "      <td>132400.0</td>\n",
       "      <td>94100.0</td>\n",
       "      <td>93200.0</td>\n",
       "      <td>132400.0</td>\n",
       "      <td>138400.0</td>\n",
       "      <td>175000.0</td>\n",
       "    </tr>\n",
       "    <tr>\n",
       "      <th>1</th>\n",
       "      <td>194200.0</td>\n",
       "      <td>136000.0</td>\n",
       "      <td>115900.0</td>\n",
       "      <td>194200.0</td>\n",
       "      <td>212000.0</td>\n",
       "      <td>295600.0</td>\n",
       "    </tr>\n",
       "    <tr>\n",
       "      <th>2</th>\n",
       "      <td>163900.0</td>\n",
       "      <td>131000.0</td>\n",
       "      <td>NaN</td>\n",
       "      <td>163900.0</td>\n",
       "      <td>164000.0</td>\n",
       "      <td>208400.0</td>\n",
       "    </tr>\n",
       "    <tr>\n",
       "      <th>3</th>\n",
       "      <td>177300.0</td>\n",
       "      <td>128000.0</td>\n",
       "      <td>123300.0</td>\n",
       "      <td>177300.0</td>\n",
       "      <td>179300.0</td>\n",
       "      <td>235700.0</td>\n",
       "    </tr>\n",
       "    <tr>\n",
       "      <th>4</th>\n",
       "      <td>150500.0</td>\n",
       "      <td>103000.0</td>\n",
       "      <td>NaN</td>\n",
       "      <td>150500.0</td>\n",
       "      <td>150500.0</td>\n",
       "      <td>196400.0</td>\n",
       "    </tr>\n",
       "    <tr>\n",
       "      <th>...</th>\n",
       "      <td>...</td>\n",
       "      <td>...</td>\n",
       "      <td>...</td>\n",
       "      <td>...</td>\n",
       "      <td>...</td>\n",
       "      <td>...</td>\n",
       "    </tr>\n",
       "    <tr>\n",
       "      <th>360</th>\n",
       "      <td>489600.0</td>\n",
       "      <td>374700.0</td>\n",
       "      <td>380800.0</td>\n",
       "      <td>489600.0</td>\n",
       "      <td>511400.0</td>\n",
       "      <td>1079700.0</td>\n",
       "    </tr>\n",
       "    <tr>\n",
       "      <th>361</th>\n",
       "      <td>501800.0</td>\n",
       "      <td>396400.0</td>\n",
       "      <td>385700.0</td>\n",
       "      <td>501800.0</td>\n",
       "      <td>541200.0</td>\n",
       "      <td>750100.0</td>\n",
       "    </tr>\n",
       "    <tr>\n",
       "      <th>362</th>\n",
       "      <td>NaN</td>\n",
       "      <td>NaN</td>\n",
       "      <td>NaN</td>\n",
       "      <td>NaN</td>\n",
       "      <td>NaN</td>\n",
       "      <td>NaN</td>\n",
       "    </tr>\n",
       "    <tr>\n",
       "      <th>363</th>\n",
       "      <td>815500.0</td>\n",
       "      <td>591500.0</td>\n",
       "      <td>NaN</td>\n",
       "      <td>815500.0</td>\n",
       "      <td>820600.0</td>\n",
       "      <td>1115800.0</td>\n",
       "    </tr>\n",
       "    <tr>\n",
       "      <th>364</th>\n",
       "      <td>889700.0</td>\n",
       "      <td>534700.0</td>\n",
       "      <td>343500.0</td>\n",
       "      <td>684000.0</td>\n",
       "      <td>599600.0</td>\n",
       "      <td>739600.0</td>\n",
       "    </tr>\n",
       "  </tbody>\n",
       "</table>\n",
       "<p>365 rows × 6 columns</p>\n",
       "</div>"
      ],
      "text/plain": [
       "        Casas  Inferior  Condominio     Medio  Unifamiliar   Superior\n",
       "0    132400.0   94100.0     93200.0  132400.0     138400.0   175000.0\n",
       "1    194200.0  136000.0    115900.0  194200.0     212000.0   295600.0\n",
       "2    163900.0  131000.0         NaN  163900.0     164000.0   208400.0\n",
       "3    177300.0  128000.0    123300.0  177300.0     179300.0   235700.0\n",
       "4    150500.0  103000.0         NaN  150500.0     150500.0   196400.0\n",
       "..        ...       ...         ...       ...          ...        ...\n",
       "360  489600.0  374700.0    380800.0  489600.0     511400.0  1079700.0\n",
       "361  501800.0  396400.0    385700.0  501800.0     541200.0   750100.0\n",
       "362       NaN       NaN         NaN       NaN          NaN        NaN\n",
       "363  815500.0  591500.0         NaN  815500.0     820600.0  1115800.0\n",
       "364  889700.0  534700.0    343500.0  684000.0     599600.0   739600.0\n",
       "\n",
       "[365 rows x 6 columns]"
      ]
     },
     "execution_count": 108,
     "metadata": {},
     "output_type": "execute_result"
    }
   ],
   "source": [
    "#Se eliminan las columnas que no son de utilidad\n",
    "#Fecha no es de importancia al igual que la región, solo nos basamos en los datos numericos\n",
    "del(zillow['Date'])\n",
    "del(zillow['RegionName'])\n",
    "#Se eliminan las columnas por ser nular y evitar tener que renombrarlas para luego ser eliminadas.\n",
    "del(zillow['ZRI_AllHomes'])\n",
    "del(zillow['ZRI_AllHomesPlusMultifamily'])\n",
    "del(zillow['ZriPerSqft_AllHomes'])\n",
    "del(zillow['Zri_MultiFamilyResidenceRental'])\n",
    "del(zillow['Zri_SingleFamilyResidenceRental'])\n",
    "#no funciono con la funcion de .drop() y recurrimos a usar la de del()\n",
    "#Renombramos las columnas a español para facilitar el entendimiento de nuestro equipo y lectores\n",
    "zillow.rename(columns= {'ZHVI_AllHomes': 'Casas','ZHVI_BottomTier':'Inferior',\n",
    "                         'ZHVI_CondoCoop': 'Condominio','ZHVI_MiddleTier': 'Medio',\n",
    "                         'ZHVI_SingleFamilyResidence': 'Unifamiliar', 'ZHVI_TopTier': 'Superior'},inplace=True)\n",
    "zillow"
   ]
  },
  {
   "cell_type": "code",
   "execution_count": 87,
   "metadata": {},
   "outputs": [
    {
     "data": {
      "text/plain": [
       "Casas            9\n",
       "Inferior        20\n",
       "Condominio     126\n",
       "Medio            9\n",
       "Unifamiliar     16\n",
       "Superior        15\n",
       "dtype: int64"
      ]
     },
     "execution_count": 87,
     "metadata": {},
     "output_type": "execute_result"
    }
   ],
   "source": [
    "zillow.isnull().sum()"
   ]
  },
  {
   "cell_type": "code",
   "execution_count": 88,
   "metadata": {
    "scrolled": true
   },
   "outputs": [],
   "source": [
    "#Eliminamos los datos nulos de las columnas que nos interesan\n",
    "zillow.drop(zillow[zillow.Casas.isnull()].index, inplace = True)\n",
    "zillow.drop(zillow[zillow.Condominio.isnull()].index, inplace = True)"
   ]
  },
  {
   "cell_type": "code",
   "execution_count": 89,
   "metadata": {},
   "outputs": [
    {
     "data": {
      "text/plain": [
       "Casas           0\n",
       "Inferior        4\n",
       "Condominio      0\n",
       "Medio           0\n",
       "Unifamiliar    11\n",
       "Superior        7\n",
       "dtype: int64"
      ]
     },
     "execution_count": 89,
     "metadata": {},
     "output_type": "execute_result"
    }
   ],
   "source": [
    "zillow.isnull().sum()"
   ]
  },
  {
   "cell_type": "code",
   "execution_count": 90,
   "metadata": {},
   "outputs": [],
   "source": [
    "zillow.to_csv('Basededatoszillow.csv')\n",
    "#Creamos un archivo cvs con los datos ya modificados"
   ]
  },
  {
   "cell_type": "markdown",
   "metadata": {},
   "source": [
    "### *Información estadística básica*"
   ]
  },
  {
   "cell_type": "markdown",
   "metadata": {},
   "source": [
    "La información con la cual se trabajará es con los datos de las columnas de \"Casas\" y \"Condominio\" dado que son las opciones por las cuales las personas optan más."
   ]
  },
  {
   "cell_type": "code",
   "execution_count": 93,
   "metadata": {},
   "outputs": [
    {
     "name": "stdout",
     "output_type": "stream",
     "text": [
      "Elementos no nulos de Casas:  235\n",
      "Elementos no nulos de Condominio:  235\n"
     ]
    }
   ],
   "source": [
    "print(\"Elementos no nulos de Casas: \", zillow['Casas'].count())\n",
    "print(\"Elementos no nulos de Condominio: \", zillow['Condominio'].count())"
   ]
  },
  {
   "cell_type": "markdown",
   "metadata": {},
   "source": [
    "#### Este paso es solo para asegurarnos tener solo datos no nulos"
   ]
  },
  {
   "cell_type": "code",
   "execution_count": 91,
   "metadata": {},
   "outputs": [
    {
     "name": "stdout",
     "output_type": "stream",
     "text": [
      "Promedio de Casas:        280880.0\n",
      "Promedio de Condominio:   216843.82978723405\n"
     ]
    }
   ],
   "source": [
    "print(\"Promedio de Casas:       \", zillow['Casas'].mean())\n",
    "print(\"Promedio de Condominio:  \", zillow['Condominio'].mean())"
   ]
  },
  {
   "cell_type": "markdown",
   "metadata": {},
   "source": [
    "#### Por el momento podemos observar que el valor promedio o costo promedio de un condominio es menor que el de una casa."
   ]
  },
  {
   "cell_type": "code",
   "execution_count": 92,
   "metadata": {},
   "outputs": [
    {
     "name": "stdout",
     "output_type": "stream",
     "text": [
      "Resumen estadístico de Casas:  count       235.000000\n",
      "mean     280880.000000\n",
      "std      120622.881559\n",
      "min       78800.000000\n",
      "25%      196750.000000\n",
      "50%      261900.000000\n",
      "75%      329050.000000\n",
      "max      889700.000000\n",
      "Name: Casas, dtype: float64\n",
      "\n",
      "Resumen estadístico de Condominios:  count       235.000000\n",
      "mean     216843.829787\n",
      "std      103178.911053\n",
      "min       50000.000000\n",
      "25%      142700.000000\n",
      "50%      191800.000000\n",
      "75%      252000.000000\n",
      "max      626400.000000\n",
      "Name: Condominio, dtype: float64\n"
     ]
    }
   ],
   "source": [
    "print(\"Resumen estadístico de Casas: \", zillow['Casas'].describe())\n",
    "print(\"\")\n",
    "print(\"Resumen estadístico de Condominios: \", zillow['Condominio'].describe())"
   ]
  },
  {
   "cell_type": "markdown",
   "metadata": {},
   "source": [
    "#### Si bien, los valores de los condominios son menores a los de casas aunque no por mucho, da a observar que es una mejor opción."
   ]
  },
  {
   "cell_type": "code",
   "execution_count": 94,
   "metadata": {},
   "outputs": [
    {
     "name": "stdout",
     "output_type": "stream",
     "text": [
      "Valor máximo de la columna Casas:  889700.0\n",
      "Valor mínimo de la columna Casas:  78800.0\n",
      "\n",
      "Valor máximo de la columna Condominio:  626400.0\n",
      "Valor mínimo de la columna Condominio:  50000.0\n",
      "\n"
     ]
    }
   ],
   "source": [
    "print(\"Valor máximo de la columna Casas: \", zillow['Casas'].max())\n",
    "print(\"Valor mínimo de la columna Casas: \", zillow['Casas'].min())\n",
    "print(\"\")\n",
    "print(\"Valor máximo de la columna Condominio: \", zillow['Condominio'].max())\n",
    "print(\"Valor mínimo de la columna Condominio: \", zillow['Condominio'].min())\n",
    "print(\"\")"
   ]
  },
  {
   "cell_type": "markdown",
   "metadata": {},
   "source": [
    "#### El valor más bajo de una casa es mayor por casi 20,000 que el valor de un condominio."
   ]
  },
  {
   "cell_type": "code",
   "execution_count": 95,
   "metadata": {},
   "outputs": [
    {
     "data": {
      "text/plain": [
       "<AxesSubplot:>"
      ]
     },
     "execution_count": 95,
     "metadata": {},
     "output_type": "execute_result"
    },
    {
     "data": {
      "image/png": "[encoded data removed]",
      "text/plain": [
       "<Figure size 432x288 with 1 Axes>"
      ]
     },
     "metadata": {
      "needs_background": "light"
     },
     "output_type": "display_data"
    }
   ],
   "source": [
    "(zillow['Condominio'].value_counts().head(10) / len(zillow)).plot.bar()"
   ]
  },
  {
   "cell_type": "code",
   "execution_count": 96,
   "metadata": {},
   "outputs": [
    {
     "data": {
      "text/plain": [
       "<AxesSubplot:>"
      ]
     },
     "execution_count": 96,
     "metadata": {},
     "output_type": "execute_result"
    },
    {
     "data": {
      "image/png": "[encoded data removed]",
      "text/plain": [
       "<Figure size 432x288 with 1 Axes>"
      ]
     },
     "metadata": {
      "needs_background": "light"
     },
     "output_type": "display_data"
    }
   ],
   "source": [
    "(zillow['Casas'].value_counts().head(10) / len(zillow)).plot.bar()"
   ]
  },
  {
   "cell_type": "markdown",
   "metadata": {},
   "source": [
    "#### Podemos observar la gran diferencia en los precios de ambas opciones"
   ]
  },
  {
   "cell_type": "code",
   "execution_count": 97,
   "metadata": {},
   "outputs": [
    {
     "data": {
      "text/plain": [
       "<AxesSubplot:xlabel='Casas', ylabel='Condominio'>"
      ]
     },
     "execution_count": 97,
     "metadata": {},
     "output_type": "execute_result"
    },
    {
     "data": {
      "image/png": "[encoded data removed]",
      "text/plain": [
       "<Figure size 432x288 with 1 Axes>"
      ]
     },
     "metadata": {
      "needs_background": "light"
     },
     "output_type": "display_data"
    }
   ],
   "source": [
    "zillow[zillow['Casas'] < 889700].sample(100).plot.scatter(x='Casas', y='Condominio')"
   ]
  },
  {
   "cell_type": "markdown",
   "metadata": {},
   "source": [
    "####  Mostramos la relación entre los precios de un condominio y de las casas en una muestra de 100 entradas de la base de datos, siempre y cuando el valor de las casas sea menor a 889,700."
   ]
  },
  {
   "cell_type": "code",
   "execution_count": 98,
   "metadata": {},
   "outputs": [
    {
     "data": {
      "text/plain": [
       "<AxesSubplot:xlabel='Casas', ylabel='Condominio'>"
      ]
     },
     "execution_count": 98,
     "metadata": {},
     "output_type": "execute_result"
    },
    {
     "data": {
      "image/png": "[encoded data removed]",
      "text/plain": [
       "<Figure size 432x288 with 2 Axes>"
      ]
     },
     "metadata": {
      "needs_background": "light"
     },
     "output_type": "display_data"
    }
   ],
   "source": [
    "zillow[zillow['Casas'] < 500000].plot.hexbin(x='Casas', y='Condominio', gridsize=11)"
   ]
  },
  {
   "cell_type": "markdown",
   "metadata": {},
   "source": [
    "#### En esta gráfica mostramos que datos de las columnas \"Casas\" y \"Condominio\" se encuentran dentro de cierto intervalo expresado en millones y donde la columna \"Condominio\" es menos a 500,000, entre más oscuro el hexágono, mayores son las cantidades."
   ]
  },
  {
   "cell_type": "code",
   "execution_count": 100,
   "metadata": {},
   "outputs": [
    {
     "data": {
      "text/plain": [
       "<seaborn.axisgrid.JointGrid at 0x1b86ab3c550>"
      ]
     },
     "execution_count": 100,
     "metadata": {},
     "output_type": "execute_result"
    },
    {
     "data": {
      "image/png": "[encoded data removed]",
      "text/plain": [
       "<Figure size 432x432 with 3 Axes>"
      ]
     },
     "metadata": {
      "needs_background": "light"
     },
     "output_type": "display_data"
    }
   ],
   "source": [
    "sns.jointplot(x='Casas', y='Condominio', data=zillow[zillow['Casas'] < 889700], kind='hex', \n",
    "              gridsize=8)"
   ]
  },
  {
   "cell_type": "markdown",
   "metadata": {},
   "source": [
    "#### Esta gráfica muestra la relación entre los precios de casas y de condominios, así como un histograma en horizontal para el precio de las casas y uno vertical para el precio de los condominios."
   ]
  },
  {
   "cell_type": "code",
   "execution_count": 102,
   "metadata": {},
   "outputs": [
    {
     "data": {
      "image/png": "[encoded data removed]",
      "text/plain": [
       "<Figure size 1296x1296 with 2 Axes>"
      ]
     },
     "metadata": {
      "needs_background": "light"
     },
     "output_type": "display_data"
    }
   ],
   "source": [
    "df = zillow[zillow.Inferior.isin(zillow.Inferior.value_counts().head(5).index)]\n",
    "f,ax=plt.subplots(figsize = (18,18))\n",
    "sns.heatmap(df.corr(),annot= True,linewidths=0.5,fmt = \".1f\",ax=ax)\n",
    "plt.xticks(rotation=90)\n",
    "plt.yticks(rotation=0)\n",
    "plt.title('Mapa de correlación')\n",
    "plt.savefig('graph.png')\n",
    "plt.show()"
   ]
  },
  {
   "cell_type": "markdown",
   "metadata": {},
   "source": [
    "#### Esta matriz de correlación muestra el coeficiente de correlación entre cada uno de los elementos de la base de datos."
   ]
  },
  {
   "cell_type": "markdown",
   "metadata": {},
   "source": [
    "--------------------------------------------------------------------------------------------------------------------------\n",
    "### *Conclusión global*\n",
    "\n",
    "#### Bitcoin Historical Dataset\n",
    "\n",
    "Se llegó a la conclusión que el invertir en la criptomoneda \"Bitcoin\" es un riesgo que solo unos pocos o un tipo de inversionista se tomaría el riesgo, es claro que después de los análisis hecho y los resultados que se fue obteniendo la inversión es riesgosa.\n",
    "\n",
    "#### Zillow Economics Data\n",
    "\n",
    "Después de los análisis y las visualizaciones de la diferencia entre los precios de las viviendas entre casa y condominio es claro que la mejor opción para iniciar una vida desde cero para los interesados es optar por un condominio."
   ]
  },
  {
   "cell_type": "code",
   "execution_count": null,
   "metadata": {},
   "outputs": [],
   "source": []
  }
 ],
 "metadata": {
  "kernelspec": {
   "display_name": "Python 3",
   "language": "python",
   "name": "python3"
  },
  "language_info": {
   "codemirror_mode": {
    "name": "ipython",
    "version": 3
   },
   "file_extension": ".py",
   "mimetype": "text/x-python",
   "name": "python",
   "nbconvert_exporter": "python",
   "pygments_lexer": "ipython3",
   "version": "3.8.5"
  }
 },
 "nbformat": 4,
 "nbformat_minor": 4
}
