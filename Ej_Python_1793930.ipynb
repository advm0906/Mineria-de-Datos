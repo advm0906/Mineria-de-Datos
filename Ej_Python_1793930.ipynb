{
 "cells": [
  {
   "cell_type": "markdown",
   "metadata": {},
   "source": [
    "# Ejercicio 1\n",
    "## Realiza una variable con tu matricula y realiza una secuencia para imprimir tu nombre y tu matrícula concatenados"
   ]
  },
  {
   "cell_type": "code",
   "execution_count": 4,
   "metadata": {},
   "outputs": [
    {
     "name": "stdout",
     "output_type": "stream",
     "text": [
      "Introduce tu nombre:Armando Vazquez\n",
      "Introduce tu matrícula: 1793930\n",
      "Tu nombre es Armando Vazquez y tu matrícula es 1793930\n"
     ]
    }
   ],
   "source": [
    "nombre=input(\"Introduce tu nombre:\")  #Recibe el nombre\n",
    "matri=int(input(\"Introduce tu matrícula: \"))  #Recibe la matricula\n",
    "t=\"Tu nombre es %s y tu matrícula es %d\" %(nombre,matri)  #Concatena nombre y matrícula\n",
    "print(t) #Imprime la variable concatenada"
   ]
  },
  {
   "cell_type": "markdown",
   "metadata": {},
   "source": [
    "# Ejercicio 2\n",
    "## Pidiendo el input del usuario pide dos numeros y crea una pequeña calculadora con los operadores basicos de suma, resta, multiplicacion, division y exponente."
   ]
  },
  {
   "cell_type": "code",
   "execution_count": 8,
   "metadata": {},
   "outputs": [
    {
     "name": "stdout",
     "output_type": "stream",
     "text": [
      "Introduzca un número: 25\n",
      "Introduzca otro número: 50\n",
      "Su suma es: 75\n",
      "Su resta es: -25\n",
      "Su multiplicacion es: 1250\n",
      "Su division es: 0.500\n",
      "El exponente es: 43\n"
     ]
    }
   ],
   "source": [
    "x=int(input(\"Introduzca un número: \"))  #Recibe el primer numero\n",
    "y=int(input(\"Introduzca otro número: \"))  #Recibe el segundo número\n",
    "\n",
    "#Ejecuta las operaciones y las guarda en variables\n",
    "sum = x+y\n",
    "res = x-y\n",
    "mult = x*y\n",
    "div = x/y\n",
    "exp=x^y\n",
    "\n",
    "#Guarda los resultados\n",
    "rsum =\"Su suma es: %d\" %(sum);\n",
    "rres =\"Su resta es: %d\" %(res);\n",
    "rmult =\"Su multiplicacion es: %d\" %(mult);\n",
    "rdiv =\"Su division es: %.3f\" %(div);\n",
    "rexp =\"El exponente es: %d\" %(exp);\n",
    "\n",
    "#Imprime los resultados\n",
    "print(rsum)\n",
    "print(rres)\n",
    "print(rmult)\n",
    "print(rdiv)\n",
    "print(rexp)"
   ]
  },
  {
   "cell_type": "markdown",
   "metadata": {},
   "source": [
    "# Ejercicio 3\n",
    "## Con loop while o for, realiza una lista de 10 numeros multiplos 3, y despues realiza una funcion de loop que sume todos los numeros dentro del arreglo"
   ]
  },
  {
   "cell_type": "code",
   "execution_count": 9,
   "metadata": {},
   "outputs": [
    {
     "name": "stdout",
     "output_type": "stream",
     "text": [
      "3 * 1 = 3\n",
      "3 * 2 = 6\n",
      "3 * 3 = 9\n",
      "3 * 4 = 12\n",
      "3 * 5 = 15\n",
      "3 * 6 = 18\n",
      "3 * 7 = 21\n",
      "3 * 8 = 24\n",
      "3 * 9 = 27\n",
      "3 * 10 = 30\n",
      "La suma del arreglo es:  165\n"
     ]
    }
   ],
   "source": [
    "i= 1  #Inicializa las variables\n",
    "b= 0  \n",
    "while  i <=10:   #Ejecuta el ciclo\n",
    "    a = i * 3\n",
    "    print(3, \"*\", i, \"=\", a) #Imprime el resultado de la operacion\n",
    "    i=i+1\n",
    "    b = a+b;\n",
    "print(\"La suma del arreglo es: \",b)  #Imprime la suma del arreglo"
   ]
  },
  {
   "cell_type": "markdown",
   "metadata": {},
   "source": [
    "# Ejercicio 4\n",
    "## Con una funcion de if else, revisa si un numero es par o es impar\n",
    "## Con una funcion de if else, revisa si un numero es primo o no"
   ]
  },
  {
   "cell_type": "code",
   "execution_count": 10,
   "metadata": {},
   "outputs": [
    {
     "name": "stdout",
     "output_type": "stream",
     "text": [
      "Intoduce un numero al azar: 85\n",
      "Introduce un segundo numero: 44\n",
      "El numero 129 es impar y es numero primo\n"
     ]
    }
   ],
   "source": [
    "a = int(input(\"Intoduce un numero al azar: \"))  #Recibe un numero entero\n",
    "b = int(input(\"Introduce un segundo numero: \")) #Recibe otro numero entero\n",
    "c = a + b   \n",
    "if c % 2 ==0 : \n",
    "    r = \"El numero %d es par y no es numero primo\" %(c)  #Decide si la suma de los numeros anteriores es par y/o prima\n",
    "    print(r)\n",
    "else:\n",
    "    r = \"El numero %d es impar y es numero primo\" %(c)\n",
    "    print(r)"
   ]
  },
  {
   "cell_type": "markdown",
   "metadata": {},
   "source": [
    "# Ejercicios Tuplas\n",
    "## Crear una variable flotante, integer, boleana y compleja e impremir el tipo de variable que es\n",
    "## Crear una tupla con valores enteros e impirmir el primer y el ultimo valor\n",
    "## Añadir 3 valores de string a la tupla\n",
    "## Verificar si una variable existe dentro de la tupla\n",
    "\n"
   ]
  },
  {
   "cell_type": "code",
   "execution_count": 11,
   "metadata": {},
   "outputs": [
    {
     "name": "stdout",
     "output_type": "stream",
     "text": [
      "<class 'float'>\n",
      "<class 'int'>\n",
      "<class 'bool'>\n",
      "<class 'complex'>\n"
     ]
    }
   ],
   "source": [
    "a=20.589    #Recibe el dato solicitado\n",
    "print(type(a))   #Imprime el tipo de dato que se introdujo\n",
    "b=20\n",
    "print(type(b))\n",
    "c=True\n",
    "print(type(c))\n",
    "d=2j\n",
    "print(type(d))"
   ]
  },
  {
   "cell_type": "code",
   "execution_count": 12,
   "metadata": {},
   "outputs": [
    {
     "name": "stdout",
     "output_type": "stream",
     "text": [
      "Armando\n",
      "Actuaría\n",
      "Introduce lo que quieres buscar en la tupla: Vazquez\n",
      "El elemento Vazquez aparece 1 veces en la tupla.\n"
     ]
    }
   ],
   "source": [
    "x=tuple((\"Armando\",\"Vazquez\",\"Actuaría\"))  #Recibe una tupla\n",
    "print(x[0]) #Imprime el primer y ultimo elemento de la tupla\n",
    "print(x[-1])\n",
    "bus=input(\"Introduce lo que quieres buscar en la tupla: \")  #Recibe lo que se quiere buscar\n",
    "y=x.count(bus)\n",
    "print(\"El elemento\",bus,\"aparece\",y,\"veces en la tupla.\")  #Imprime cuantas veces existe lo que se buscó"
   ]
  },
  {
   "cell_type": "markdown",
   "metadata": {},
   "source": [
    "# Ejercicios Listas\n",
    "## Crear una lista con 40 elementos aleatorios enteros\n",
    "## Con una funcion (def) crear dos listas nuevas a partir de la lista creada por numeros aleatorios, en la cual en una esten los elementos pares y en la otra los impares\n",
    "## Crear dos variables con la longitud de ambas listas nuevas e imprimir las variables\n",
    "## Ordenar los elementos de la lista par de mayor a menor, y los de la lista impar de menor a mayor\n",
    "## Utilizar al menos cuatro de las funciones de listas en python en la lista original de 40 elementos"
   ]
  },
  {
   "cell_type": "code",
   "execution_count": 23,
   "metadata": {},
   "outputs": [
    {
     "name": "stdout",
     "output_type": "stream",
     "text": [
      "[96, 27, 16, 89, 66, 58, 97, 31, 56, 55, 64, 77, 66, 44, 32, 64, 97, 83, 28, 74, 45, 86, 16, 2, 7, 70, 44, 54, 19, 30, 54, 12, 70, 64, 1, 29, 75, 62, 30]\n",
      "Hay 25 pares y 14 impares.\n"
     ]
    }
   ],
   "source": [
    "import random\n",
    "lista1=list()\n",
    "for i in range(0,39):\n",
    "    lista1.append(random.randint(0,100))   #Introduce en la lista un numero aleatorio entre 0 y 100\n",
    "    \n",
    "print(lista1) \n",
    "\n",
    "def listas(lista1):     #Define la funcion que introduce cada dato en una segunda lista de acuerdo a si es o no par\n",
    "    listapar=list()\n",
    "    listaimp=list()\n",
    "    for i in range(len(lista1)):\n",
    "        if lista1[i]%2==0:\n",
    "            listapar.append(lista1[i])\n",
    "        else:\n",
    "            listaimp.append(lista1[i])\n",
    "            \n",
    "    len1=len(listapar)   #Imprime las listas resultantes\n",
    "    len2=len(listaimp)\n",
    "    listapar.sort()  #Ordena la lista de menor a mayor\n",
    "    listaimp.sort(reverse=True) #Ordena la lista de mayor a menor\n",
    "    v=len(listapar)\n",
    "    b=len(listaimp)\n",
    "    res=\"Hay %d pares y %d impares.\" %(v,b)\n",
    "    return(res) #Regresa los resultados\n",
    "   \n",
    "\n",
    "\n",
    "print(listas(lista1))"
   ]
  },
  {
   "cell_type": "markdown",
   "metadata": {},
   "source": [
    "# Ejercicios Diccionarios\n",
    "## Crear un diccionario de 6 personas que conozcas con su primer nombre y su edad.\n",
    "## Crear una lista con los valores de la edad y reacomodar la lista de menor a mayor valor.\n",
    "## Usando el diccionario y un loop, imprimir solo los nombres.\n",
    "## Añadir dos personas nuevas a tu diccionario, incluyendo edad."
   ]
  },
  {
   "cell_type": "code",
   "execution_count": 15,
   "metadata": {},
   "outputs": [
    {
     "name": "stdout",
     "output_type": "stream",
     "text": [
      "[21, 21, 24, 20, 21, 17]\n",
      "---------Lista ordenada---------\n",
      "[17, 20, 21, 21, 21, 24]\n"
     ]
    }
   ],
   "source": [
    "lista=['Nahomi', 21, 'Armando', 21, 'Emmanuel', 24, 'Emanuel', 20, 'Ivan', 21, 'Isaac', 17,0]\n",
    "ledad=lista[1:-1:2] #Selecciona solo ciertos datos (edades)\n",
    "print(ledad) #solo las edades\n",
    "ledad.sort()#edades de menor a mayor\n",
    "print(\"---------Lista ordenada---------\")\n",
    "print(ledad)"
   ]
  },
  {
   "cell_type": "markdown",
   "metadata": {},
   "source": [
    "# Ejercicios Sets\n",
    "## Crea un set con 100 numeros aleatorios enteros del 1 al 25.\n",
    "## Comprueba la longitud de tu set.\n",
    "## Crea una lista de 5 numeros aleatorios del 1 al 10 y comprueba si cada valor aparece en el set inicial."
   ]
  },
  {
   "cell_type": "code",
   "execution_count": 21,
   "metadata": {},
   "outputs": [
    {
     "name": "stdout",
     "output_type": "stream",
     "text": [
      "25\n",
      "[7, 6, 1, 3, 10]\n",
      "{1, 2, 3, 4, 5, 6, 7, 8, 9, 10, 11, 12, 13, 14, 15, 16, 17, 18, 19, 20, 21, 22, 23, 24, 25}\n",
      "True\n",
      "True\n",
      "True\n",
      "True\n",
      "True\n"
     ]
    }
   ],
   "source": [
    "import random\n",
    "set1=set()\n",
    "listaaux=list()\n",
    "\n",
    "for i in range(0,100):\n",
    "    listaaux.append(random.randint(1,25))\n",
    "    \n",
    "\n",
    "set1.update(listaaux)\n",
    "print(len(set1))\n",
    "listaaux2=list()\n",
    "for i in range(0,5):\n",
    "    listaaux2.append(random.randint(1,10))\n",
    "\n",
    "print(listaaux2)\n",
    "print(set1)\n",
    "\n",
    "for i in range(len(listaaux2)):   #Determina cual de los datos aleatorio se encuentra en el set\n",
    "    print(listaaux2[i] in set1)\n",
    "    "
   ]
  },
  {
   "cell_type": "markdown",
   "metadata": {},
   "source": [
    "### Referencias \n",
    "#### https://www.w3schools.com/python/python_operators.asp\n",
    "#### https://guides.github.com/features/mastering-markdown/"
   ]
  },
  {
   "cell_type": "code",
   "execution_count": null,
   "metadata": {},
   "outputs": [],
   "source": []
  }
 ],
 "metadata": {
  "kernelspec": {
   "display_name": "Python 3",
   "language": "python",
   "name": "python3"
  },
  "language_info": {
   "codemirror_mode": {
    "name": "ipython",
    "version": 3
   },
   "file_extension": ".py",
   "mimetype": "text/x-python",
   "name": "python",
   "nbconvert_exporter": "python",
   "pygments_lexer": "ipython3",
   "version": "3.8.5"
  }
 },
 "nbformat": 4,
 "nbformat_minor": 4
}
